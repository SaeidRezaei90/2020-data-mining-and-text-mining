{
 "cells": [
  {
   "cell_type": "markdown",
   "metadata": {},
   "source": [
    "# Data Preparation\n",
    "\n",
    "In this notebook we will have a look to the classic data science stack for Python to prepare our data for recommender\n",
    "\n",
    "Specifically, we will have a look to the following libraries\n",
    "\n",
    "1. NumPy\n",
    "2. Pandas\n",
    "3. SciPy\n",
    "\n",
    "In order to show the capabilities of each library, we will use the same dataset across the examples and notebooks. You will see differences.\n",
    "\n",
    "The first and last positions of the dataset are (this dataset is located on `data/mk-100k/u.data`):\n",
    "\n",
    "| User Id  | Item Id | Rating  | Timestamp |\n",
    "| ------------- | ------------- | ------------- | ------------- |\n",
    "| 196  | 242  | 3  | 881250949  |\n",
    "| 186  | 302  | 3  | 891717742  |\n",
    "| 22  | 377  | 1  | 878887116  |\n",
    "| 244  | 51  | 2  | 880606923  |\n",
    "| 166  | 346  | 1  | 886397596  |\n",
    "\n"
   ]
  },
  {
   "cell_type": "markdown",
   "metadata": {},
   "source": [
    "## NumPy\n",
    "\n",
    "NumPy is **THE** foundation of all the data science stack in Python. Most of the libraries are built on top of NumPy data structures. Make sure you take your time to understand them.\n",
    "\n",
    "The basic data structure of NumPy is an `n-array`, i.e., an array of `n` dimensions with **LOTS** of methods to work with these arrays.\n",
    "\n",
    "NumPy is really important in the field because it is **FAST**, most of the routines are implemented in C and you can get orders of magnitude faster when compared with their Python counterparts."
   ]
  },
  {
   "cell_type": "markdown",
   "metadata": {},
   "source": [
    "### Basic Concepts"
   ]
  },
  {
   "cell_type": "code",
   "execution_count": 1,
   "metadata": {},
   "outputs": [],
   "source": [
    "import numpy as np # Convention, just memorize that np.<something> means a numpy method"
   ]
  },
  {
   "cell_type": "code",
   "execution_count": 2,
   "metadata": {},
   "outputs": [
    {
     "data": {
      "text/plain": [
       "array([1, 2, 3, 4])"
      ]
     },
     "execution_count": 2,
     "metadata": {},
     "output_type": "execute_result"
    }
   ],
   "source": [
    "one_dim_array = np.array([1,2,3,4])\n",
    "one_dim_array"
   ]
  },
  {
   "cell_type": "code",
   "execution_count": 3,
   "metadata": {},
   "outputs": [
    {
     "data": {
      "text/plain": [
       "array([[   1,    2,    3,    4],\n",
       "       [1000, 1001, 1002, 1004]])"
      ]
     },
     "execution_count": 3,
     "metadata": {},
     "output_type": "execute_result"
    }
   ],
   "source": [
    "two_dim_array = np.array([[1,2,3,4], [1000, 1001, 1002, 1004]])\n",
    "two_dim_array"
   ]
  },
  {
   "cell_type": "code",
   "execution_count": 4,
   "metadata": {},
   "outputs": [
    {
     "data": {
      "text/plain": [
       "array([[[    1,     2,     3,     4],\n",
       "        [ 1000,  1001,  1002,  1004]],\n",
       "\n",
       "       [[   -1,    -2,    -3,    -4],\n",
       "        [-1000, -1001, -1002, -1003]],\n",
       "\n",
       "       [[    1,    -2,     3,    -4],\n",
       "        [ 1000, -1001,  1002, -1003]],\n",
       "\n",
       "       [[   -1,     2,    -3,     4],\n",
       "        [-1000,  1001, -1002,  1003]]])"
      ]
     },
     "execution_count": 4,
     "metadata": {},
     "output_type": "execute_result"
    }
   ],
   "source": [
    "three_dim_array = np.array([[[1,2,3,4], [1000, 1001, 1002, 1004]], \n",
    "                            [[-1,-2,-3,-4], [-1000, -1001, -1002, -1003]],\n",
    "                            [[1,-2,3,-4], [1000, -1001, 1002, -1003]],\n",
    "                            [[-1,2,-3,4], [-1000, 1001, -1002, 1003]]])\n",
    "three_dim_array"
   ]
  },
  {
   "cell_type": "markdown",
   "metadata": {},
   "source": [
    "### Load Data"
   ]
  },
  {
   "cell_type": "code",
   "execution_count": 9,
   "metadata": {},
   "outputs": [
    {
     "data": {
      "text/plain": [
       "array([(196,  242, 3, 881250949), (186,  302, 3, 891717742),\n",
       "       ( 22,  377, 1, 878887116), ..., (276, 1090, 1, 874795795),\n",
       "       ( 13,  225, 2, 882399156), ( 12,  203, 3, 879959583)],\n",
       "      dtype=[('user_id', '<i4'), ('item_id', '<i4'), ('rating', '<i4'), ('timestamp', '<i8')])"
      ]
     },
     "execution_count": 9,
     "metadata": {},
     "output_type": "execute_result"
    }
   ],
   "source": [
    "data = np.loadtxt(\"data/ml-100k/u.data\", \n",
    "                  dtype=[('user_id', np.int32), \n",
    "                         ('item_id', np.int32), \n",
    "                         ('rating', np.int32), \n",
    "                         ('timestamp', np.int64)], \n",
    "                  delimiter=\"\\t\")\n",
    "data"
   ]
  },
  {
   "cell_type": "markdown",
   "metadata": {},
   "source": [
    "We can see that the data itself is loaded as an array of tuples, which is pretty inconvenient 🧐. I would like to have each column in a different array"
   ]
  },
  {
   "cell_type": "code",
   "execution_count": 12,
   "metadata": {},
   "outputs": [
    {
     "name": "stdout",
     "output_type": "stream",
     "text": [
      "user_ids=array([196, 186,  22, ..., 276,  13,  12], dtype=int32)\n",
      "item_ids=array([ 242,  302,  377, ..., 1090,  225,  203], dtype=int32)\n",
      "ratings=array([3, 3, 1, ..., 1, 2, 3], dtype=int32)\n",
      "timestamps=array([881250949, 891717742, 878887116, ..., 874795795, 882399156,\n",
      "       879959583])\n"
     ]
    }
   ],
   "source": [
    "user_ids, item_ids, ratings, timestamps = np.loadtxt(\"data/ml-100k/u.data\", \n",
    "                                                     dtype=[('user_id', np.int32), ('item_id', np.int32), ('rating', np.int32), ('timestamp', np.int64)], \n",
    "                                                     delimiter=\"\\t\",\n",
    "                                                     unpack=True)\n",
    "print(f\"{user_ids=}\")\n",
    "print(f\"{item_ids=}\")\n",
    "print(f\"{ratings=}\")\n",
    "print(f\"{timestamps=}\")"
   ]
  },
  {
   "cell_type": "markdown",
   "metadata": {},
   "source": [
    "As you can see, we loaded the whole dataset with just one line of code (using `np.loadtxt`). I want to remark some things.\n",
    "\n",
    "1. We defined our expected datatypes: **THIS IS IMPORTANT** NumPy can figure out what data types there are in the data (but if it just feels lazy it will try to load everything as a `np.float32`). Part of the huge speeds that we can obtain with NumPy and similar libraries is that we define with precision the data types that we're going to work with.\n",
    "\n",
    "2. We defined the delimiter: Again, NumPy will try to figure out what delimiter we're using, but if we can help it, we'll get results faster (and with less probability of errors 🤓).\n",
    "\n",
    "3. We provided the `unpack` attribute: This tells NumPy to return each column in a separate array.\n",
    "\n",
    "Now let's see what is `data`, how it looks like, and more."
   ]
  },
  {
   "cell_type": "code",
   "execution_count": 13,
   "metadata": {},
   "outputs": [
    {
     "name": "stdout",
     "output_type": "stream",
     "text": [
      "one_dim_array.shape=(4,)\n",
      "two_dim_array.shape=(2, 4)\n",
      "three_dim_array.shape=(4, 2, 4)\n"
     ]
    }
   ],
   "source": [
    "print(f\"{one_dim_array.shape=}\")\n",
    "print(f\"{two_dim_array.shape=}\")\n",
    "print(f\"{three_dim_array.shape=}\")"
   ]
  },
  {
   "cell_type": "code",
   "execution_count": 16,
   "metadata": {},
   "outputs": [
    {
     "name": "stdout",
     "output_type": "stream",
     "text": [
      "one_dim_array.ndim=1\n",
      "two_dim_array.ndim=2\n",
      "three_dim_array.ndim=3\n"
     ]
    }
   ],
   "source": [
    "print(f\"{one_dim_array.ndim=}\")\n",
    "print(f\"{two_dim_array.ndim=}\")\n",
    "print(f\"{three_dim_array.ndim=}\")"
   ]
  },
  {
   "cell_type": "code",
   "execution_count": 14,
   "metadata": {},
   "outputs": [
    {
     "name": "stdout",
     "output_type": "stream",
     "text": [
      "data.shape=(100000,)\n",
      "user_ids.shape=(100000,)\n",
      "item_ids.shape=(100000,)\n",
      "ratings.shape=(100000,)\n",
      "timestamps.shape=(100000,)\n"
     ]
    }
   ],
   "source": [
    "# First, let's see the shape of the array, i.e., the size of each dimension\n",
    "print(f\"{data.shape=}\")\n",
    "print(f\"{user_ids.shape=}\")\n",
    "print(f\"{item_ids.shape=}\")\n",
    "print(f\"{ratings.shape=}\")\n",
    "print(f\"{timestamps.shape=}\")"
   ]
  },
  {
   "cell_type": "code",
   "execution_count": 15,
   "metadata": {},
   "outputs": [
    {
     "name": "stdout",
     "output_type": "stream",
     "text": [
      "data.ndim=1\n",
      "user_ids.ndim=1\n",
      "item_ids.ndim=1\n",
      "ratings.ndim=1\n",
      "timestamps.ndim=1\n"
     ]
    }
   ],
   "source": [
    "# Let's see the number of dimensions\n",
    "print(f\"{data.ndim=}\")\n",
    "print(f\"{user_ids.ndim=}\")\n",
    "print(f\"{item_ids.ndim=}\")\n",
    "print(f\"{ratings.ndim=}\")\n",
    "print(f\"{timestamps.ndim=}\")"
   ]
  },
  {
   "cell_type": "code",
   "execution_count": 18,
   "metadata": {},
   "outputs": [
    {
     "name": "stdout",
     "output_type": "stream",
     "text": [
      "data[1]=(186, 302, 3, 891717742)\n",
      "user_ids[0]=196\n",
      "item_ids[0]=242\n",
      "ratings[0]=3\n",
      "timestamps[0]=881250949\n"
     ]
    }
   ],
   "source": [
    "# We can access positions on the array just as with Python\n",
    "print(f\"{data[1]=}\")\n",
    "print(f\"{user_ids[0]=}\")\n",
    "print(f\"{item_ids[0]=}\")\n",
    "print(f\"{ratings[0]=}\")\n",
    "print(f\"{timestamps[0]=}\")"
   ]
  },
  {
   "cell_type": "code",
   "execution_count": 19,
   "metadata": {},
   "outputs": [
    {
     "name": "stdout",
     "output_type": "stream",
     "text": [
      "data[0:10]=array([(196, 242, 3, 881250949), (186, 302, 3, 891717742),\n",
      "       ( 22, 377, 1, 878887116), (244,  51, 2, 880606923),\n",
      "       (166, 346, 1, 886397596), (298, 474, 4, 884182806),\n",
      "       (115, 265, 2, 881171488), (253, 465, 5, 891628467),\n",
      "       (305, 451, 3, 886324817), (  6,  86, 3, 883603013)],\n",
      "      dtype=[('user_id', '<i4'), ('item_id', '<i4'), ('rating', '<i4'), ('timestamp', '<i8')])\n",
      "user_ids[0:10]=array([196, 186,  22, 244, 166, 298, 115, 253, 305,   6], dtype=int32)\n",
      "item_ids[0:10]=array([242, 302, 377,  51, 346, 474, 265, 465, 451,  86], dtype=int32)\n",
      "ratings[0:10]=array([3, 3, 1, 2, 1, 4, 2, 5, 3, 3], dtype=int32)\n",
      "timestamps[0:10]=array([881250949, 891717742, 878887116, 880606923, 886397596, 884182806,\n",
      "       881171488, 891628467, 886324817, 883603013])\n"
     ]
    }
   ],
   "source": [
    "# We can access slices of the array too.\n",
    "print(f\"{data[0:10]=}\")\n",
    "print(f\"{user_ids[0:10]=}\")\n",
    "print(f\"{item_ids[0:10]=}\")\n",
    "print(f\"{ratings[0:10]=}\")\n",
    "print(f\"{timestamps[0:10]=}\")"
   ]
  },
  {
   "cell_type": "markdown",
   "metadata": {},
   "source": [
    "Until here, we've seen similarities with Python, by indexing and slicing these arrays. We've not seen anything so interesting, yet. \n"
   ]
  },
  {
   "cell_type": "markdown",
   "metadata": {},
   "source": [
    "### Arithmetic Operations\n",
    "\n",
    "One good thing about NumPy is that it integrates very well with Python. Using operators overload, you can have arithmetic operators for arrays that are intuitive and fast."
   ]
  },
  {
   "cell_type": "code",
   "execution_count": 20,
   "metadata": {},
   "outputs": [
    {
     "name": "stdout",
     "output_type": "stream",
     "text": [
      "timestamps = array([881250949, 891717742, 878887116, ..., 874795795, 882399156,\n",
      "       879959583])\n",
      "timestamps + 1000 = array([881251949, 891718742, 878888116, ..., 874796795, 882400156,\n",
      "       879960583])\n",
      "timestamps - 1000 * 60 * 2 = array([881130949, 891597742, 878767116, ..., 874675795, 882279156,\n",
      "       879839583])\n"
     ]
    }
   ],
   "source": [
    "print(f\"{timestamps = }\")\n",
    "\n",
    "# Adding 1 second to the timestamps (they're in ms).\n",
    "print(f\"{timestamps + 1000 = }\")\n",
    "\n",
    "# Substracting 2 minutes to the timestamps.\n",
    "print(f\"{timestamps - 1000 * 60 * 2 = }\")"
   ]
  },
  {
   "cell_type": "code",
   "execution_count": 21,
   "metadata": {},
   "outputs": [
    {
     "name": "stdout",
     "output_type": "stream",
     "text": [
      "norm_ratings = array([0.5 , 0.5 , 0.  , ..., 0.  , 0.25, 0.5 ])\n",
      "standard_ratings = array([-0.47070718, -0.47070718, -2.24743003, ..., -2.24743003,\n",
      "       -1.35906861, -0.47070718])\n"
     ]
    }
   ],
   "source": [
    "# Normalizing ratings\n",
    "min_ratings = np.min(ratings)\n",
    "max_ratings = np.max(ratings)\n",
    "norm_ratings = (ratings - min_ratings) / (max_ratings - min_ratings)\n",
    "norm_ratings\n",
    "\n",
    "# Standardizing ratings\n",
    "mean_ratings = np.mean(ratings)\n",
    "std_ratings = np.std(ratings)\n",
    "standard_ratings = (ratings - mean_ratings) / std_ratings\n",
    "\n",
    "print(f\"{norm_ratings = }\")\n",
    "print(f\"{standard_ratings = }\")"
   ]
  },
  {
   "cell_type": "markdown",
   "metadata": {},
   "source": [
    "### Boolean Indexing\n",
    "\n",
    "What happens if I want to filter out those ratings lower than 4? Well, If you've used SQL, you know that a query for that will be something like this.\n",
    "\n",
    "```sql\n",
    "SELECT *\n",
    "FROM data AS d\n",
    "WHERE d.rating >= 4\n",
    "```\n",
    "\n",
    "How can we do something like that in NumPy? Well, we can use boolean indexing. The basic notion is that we create a boolean array, and we will 'slice' the array using this boolean array.\n",
    "\n",
    "**IMPORTANT: The boolean array must have the same `shape` than the original array.**"
   ]
  },
  {
   "cell_type": "markdown",
   "metadata": {},
   "source": [
    "First we need to create the boolean array (the `WHERE` in SQL)"
   ]
  },
  {
   "cell_type": "code",
   "execution_count": 22,
   "metadata": {},
   "outputs": [
    {
     "data": {
      "text/plain": [
       "array([False, False, False, ..., False, False, False])"
      ]
     },
     "execution_count": 22,
     "metadata": {},
     "output_type": "execute_result"
    }
   ],
   "source": [
    "where_clause = ratings >= 4\n",
    "where_clause"
   ]
  },
  {
   "cell_type": "code",
   "execution_count": 23,
   "metadata": {},
   "outputs": [
    {
     "data": {
      "text/plain": [
       "(100000,)"
      ]
     },
     "execution_count": 23,
     "metadata": {},
     "output_type": "execute_result"
    }
   ],
   "source": [
    "where_clause.shape"
   ]
  },
  {
   "cell_type": "markdown",
   "metadata": {},
   "source": [
    "Now that we have our boolean array, we just execute the `FROM` clause"
   ]
  },
  {
   "cell_type": "code",
   "execution_count": 24,
   "metadata": {},
   "outputs": [
    {
     "data": {
      "text/plain": [
       "array([298, 253, 286, ..., 806, 676, 716], dtype=int32)"
      ]
     },
     "execution_count": 24,
     "metadata": {},
     "output_type": "execute_result"
    }
   ],
   "source": [
    "user_ids[where_clause]"
   ]
  },
  {
   "cell_type": "code",
   "execution_count": 25,
   "metadata": {},
   "outputs": [
    {
     "data": {
      "text/plain": [
       "(55375,)"
      ]
     },
     "execution_count": 25,
     "metadata": {},
     "output_type": "execute_result"
    }
   ],
   "source": [
    "user_ids[where_clause].shape"
   ]
  },
  {
   "cell_type": "markdown",
   "metadata": {},
   "source": [
    "What happened here?\n",
    "\n",
    "Our boolean array went cell by cell of the `ratings` array asking if the cell had a value `greater or equal` than `4`. If the condition held, then that cell in `where_clause` was set to `True`. Else, the cell was set to `False`.\n",
    "\n",
    "Here we saw two important features of NumPy (and subsequent libraries). The power of filtering and selecting data based on boolean conditions, and that writing these boolean conditions is really easy.\n",
    "\n",
    "What happens if I want those users with ids greater than 1000 and ratings higher than 4 OR item ids lower than 500 and ratings of 5?\n",
    "\n",
    "An SQL query would look like this:\n",
    "\n",
    "```SQL\n",
    "SELECT *\n",
    "FROM data AS d\n",
    "WHERE (d.rating >= 4 AND d.user_id >= 1000) OR (d.item_id < 500 AND d.rating = 5)\n",
    "```"
   ]
  },
  {
   "cell_type": "code",
   "execution_count": 26,
   "metadata": {},
   "outputs": [
    {
     "data": {
      "text/plain": [
       "array([False, False, False, ..., False, False, False])"
      ]
     },
     "execution_count": 26,
     "metadata": {},
     "output_type": "execute_result"
    }
   ],
   "source": [
    "where_clause = ((ratings >= 4) & (user_ids >= 1000)) | ((item_ids < 500) & (ratings == 5))\n",
    "where_clause"
   ]
  },
  {
   "cell_type": "code",
   "execution_count": 27,
   "metadata": {},
   "outputs": [
    {
     "data": {
      "text/plain": [
       "(100000,)"
      ]
     },
     "execution_count": 27,
     "metadata": {},
     "output_type": "execute_result"
    }
   ],
   "source": [
    "where_clause.shape"
   ]
  },
  {
   "cell_type": "code",
   "execution_count": 28,
   "metadata": {},
   "outputs": [
    {
     "data": {
      "text/plain": [
       "array([253, 200, 122, ..., 650, 429, 716], dtype=int32)"
      ]
     },
     "execution_count": 28,
     "metadata": {},
     "output_type": "execute_result"
    }
   ],
   "source": [
    "user_ids[where_clause]"
   ]
  },
  {
   "cell_type": "markdown",
   "metadata": {},
   "source": [
    "Now that we have our boolean array, we just execute the `FROM` clause"
   ]
  },
  {
   "cell_type": "code",
   "execution_count": 22,
   "metadata": {},
   "outputs": [
    {
     "data": {
      "text/plain": [
       "(15903,)"
      ]
     },
     "execution_count": 22,
     "metadata": {},
     "output_type": "execute_result"
    }
   ],
   "source": [
    "user_ids[where_clause].shape"
   ]
  },
  {
   "cell_type": "markdown",
   "metadata": {},
   "source": [
    "We can also inline the condition. Depending on the length of the condition, it could be better to inline it or not"
   ]
  },
  {
   "cell_type": "code",
   "execution_count": 18,
   "metadata": {},
   "outputs": [
    {
     "data": {
      "text/plain": [
       "(15903,)"
      ]
     },
     "execution_count": 18,
     "metadata": {},
     "output_type": "execute_result"
    }
   ],
   "source": [
    "user_ids[((ratings >= 4) & (user_ids >= 1000)) | ((item_ids < 500) & (ratings == 5))].shape"
   ]
  },
  {
   "cell_type": "markdown",
   "metadata": {},
   "source": [
    "### Important! You have to think in vectors\n",
    "\n",
    "Most of the operations are highly optimized to be done in a vectorized way (e.g. no `for` loops). \n",
    "\n",
    "Let's see an example of this. First we will prepare four arrays. Two arrays will be implemented as Python `lists` (`huge_array_1` & `huge_array_2`) and two arrays will be NumPy `arrays` (`numpy_huge_array_1` & `numpy_huge_array_2`). We will see the difference in speed by measuring two things: \n",
    "\n",
    "1. Data structure efficiency\n",
    "2. Algorithm \"efficiency\"\n",
    "\n",
    "We're not going to do something uterly complicated here. We are just going to sum both arrays 😅\n"
   ]
  },
  {
   "cell_type": "code",
   "execution_count": 32,
   "metadata": {},
   "outputs": [],
   "source": [
    "huge_array_1 = [x for x in range(10000000)]\n",
    "huge_array_2 = [x*x for x in range(10000000)]\n",
    "\n",
    "numpy_huge_array_1 = np.array(huge_array_1)\n",
    "numpy_huge_array_2 = np.array(huge_array_2)"
   ]
  },
  {
   "cell_type": "code",
   "execution_count": 33,
   "metadata": {},
   "outputs": [],
   "source": [
    "def sum_naive_python_loop():\n",
    "    a = []\n",
    "    for arr1, arr2 in zip(huge_array_1, huge_array_2):\n",
    "        a.append(arr1 + arr2)\n",
    "        \n",
    "def sum_naive_python_list_comprehension():\n",
    "    a = [arr1 + arr2 for arr1, arr2 in zip(huge_array_1, huge_array_2)]\n",
    "    \n",
    "def sum_naive_numpy_loop():\n",
    "    a = []\n",
    "    for arr1, arr2 in zip(numpy_huge_array_1, numpy_huge_array_2):\n",
    "        a.append(arr1 + arr2)\n",
    "        \n",
    "def sum_naive_numpy_list_comprehension():\n",
    "    a = [arr1 + arr2 for arr1, arr2 in zip(numpy_huge_array_1, numpy_huge_array_2)]\n",
    "    \n",
    "def sum_numpy_approved():\n",
    "    a = numpy_huge_array_1 + numpy_huge_array_2"
   ]
  },
  {
   "cell_type": "markdown",
   "metadata": {},
   "source": [
    "Show time!"
   ]
  },
  {
   "cell_type": "code",
   "execution_count": 34,
   "metadata": {},
   "outputs": [
    {
     "name": "stdout",
     "output_type": "stream",
     "text": [
      "1.26 s ± 47 ms per loop (mean ± std. dev. of 7 runs, 1 loop each)\n",
      "983 ms ± 3.1 ms per loop (mean ± std. dev. of 7 runs, 1 loop each)\n",
      "3.24 s ± 42 ms per loop (mean ± std. dev. of 7 runs, 1 loop each)\n",
      "3.08 s ± 132 ms per loop (mean ± std. dev. of 7 runs, 1 loop each)\n",
      "23.9 ms ± 144 µs per loop (mean ± std. dev. of 7 runs, 10 loops each)\n"
     ]
    }
   ],
   "source": [
    "%timeit sum_naive_python_loop()\n",
    "%timeit sum_naive_python_list_comprehension()\n",
    "%timeit sum_naive_numpy_loop()\n",
    "%timeit sum_naive_numpy_list_comprehension()\n",
    "%timeit sum_numpy_approved()"
   ]
  },
  {
   "cell_type": "markdown",
   "metadata": {},
   "source": [
    "## Pandas\n",
    "\n",
    "Numpy is amazing, nobody will say the contrary. However, in our case it's like working on Assembly when we can work with C or Rust. \n",
    "\n",
    "As you saw, the data is inside a CSV, stored in four columns: user_ids, item_ids, ratings, and timestamps (We will call these columns `variables`). In each row of the file we have an `observation`, a point in time that describes the four variables. When the data is shaped in a columnar way like this, it is advisable to use a Pandas DataFrame to handle the data. \n",
    "\n",
    "We're going to do the same operations that we did with Numpy but with Pandas. Trust me, it will be for the better."
   ]
  },
  {
   "cell_type": "code",
   "execution_count": 35,
   "metadata": {},
   "outputs": [],
   "source": [
    "import pandas as pd # Convention"
   ]
  },
  {
   "cell_type": "code",
   "execution_count": 36,
   "metadata": {},
   "outputs": [
    {
     "data": {
      "text/html": [
       "<div>\n",
       "<style scoped>\n",
       "    .dataframe tbody tr th:only-of-type {\n",
       "        vertical-align: middle;\n",
       "    }\n",
       "\n",
       "    .dataframe tbody tr th {\n",
       "        vertical-align: top;\n",
       "    }\n",
       "\n",
       "    .dataframe thead th {\n",
       "        text-align: right;\n",
       "    }\n",
       "</style>\n",
       "<table border=\"1\" class=\"dataframe\">\n",
       "  <thead>\n",
       "    <tr style=\"text-align: right;\">\n",
       "      <th></th>\n",
       "      <th>user_id</th>\n",
       "      <th>item_id</th>\n",
       "      <th>rating</th>\n",
       "      <th>timestamp</th>\n",
       "    </tr>\n",
       "  </thead>\n",
       "  <tbody>\n",
       "    <tr>\n",
       "      <th>0</th>\n",
       "      <td>196</td>\n",
       "      <td>242</td>\n",
       "      <td>3</td>\n",
       "      <td>881250949</td>\n",
       "    </tr>\n",
       "    <tr>\n",
       "      <th>1</th>\n",
       "      <td>186</td>\n",
       "      <td>302</td>\n",
       "      <td>3</td>\n",
       "      <td>891717742</td>\n",
       "    </tr>\n",
       "    <tr>\n",
       "      <th>2</th>\n",
       "      <td>22</td>\n",
       "      <td>377</td>\n",
       "      <td>1</td>\n",
       "      <td>878887116</td>\n",
       "    </tr>\n",
       "    <tr>\n",
       "      <th>3</th>\n",
       "      <td>244</td>\n",
       "      <td>51</td>\n",
       "      <td>2</td>\n",
       "      <td>880606923</td>\n",
       "    </tr>\n",
       "    <tr>\n",
       "      <th>4</th>\n",
       "      <td>166</td>\n",
       "      <td>346</td>\n",
       "      <td>1</td>\n",
       "      <td>886397596</td>\n",
       "    </tr>\n",
       "    <tr>\n",
       "      <th>...</th>\n",
       "      <td>...</td>\n",
       "      <td>...</td>\n",
       "      <td>...</td>\n",
       "      <td>...</td>\n",
       "    </tr>\n",
       "    <tr>\n",
       "      <th>99995</th>\n",
       "      <td>880</td>\n",
       "      <td>476</td>\n",
       "      <td>3</td>\n",
       "      <td>880175444</td>\n",
       "    </tr>\n",
       "    <tr>\n",
       "      <th>99996</th>\n",
       "      <td>716</td>\n",
       "      <td>204</td>\n",
       "      <td>5</td>\n",
       "      <td>879795543</td>\n",
       "    </tr>\n",
       "    <tr>\n",
       "      <th>99997</th>\n",
       "      <td>276</td>\n",
       "      <td>1090</td>\n",
       "      <td>1</td>\n",
       "      <td>874795795</td>\n",
       "    </tr>\n",
       "    <tr>\n",
       "      <th>99998</th>\n",
       "      <td>13</td>\n",
       "      <td>225</td>\n",
       "      <td>2</td>\n",
       "      <td>882399156</td>\n",
       "    </tr>\n",
       "    <tr>\n",
       "      <th>99999</th>\n",
       "      <td>12</td>\n",
       "      <td>203</td>\n",
       "      <td>3</td>\n",
       "      <td>879959583</td>\n",
       "    </tr>\n",
       "  </tbody>\n",
       "</table>\n",
       "<p>100000 rows × 4 columns</p>\n",
       "</div>"
      ],
      "text/plain": [
       "       user_id  item_id  rating  timestamp\n",
       "0          196      242       3  881250949\n",
       "1          186      302       3  891717742\n",
       "2           22      377       1  878887116\n",
       "3          244       51       2  880606923\n",
       "4          166      346       1  886397596\n",
       "...        ...      ...     ...        ...\n",
       "99995      880      476       3  880175444\n",
       "99996      716      204       5  879795543\n",
       "99997      276     1090       1  874795795\n",
       "99998       13      225       2  882399156\n",
       "99999       12      203       3  879959583\n",
       "\n",
       "[100000 rows x 4 columns]"
      ]
     },
     "execution_count": 36,
     "metadata": {},
     "output_type": "execute_result"
    }
   ],
   "source": [
    "data_df = pd.read_csv(\"data/ml-100k/u.data\",\n",
    "                      names=[\"user_id\", \"item_id\", \"rating\", \"timestamp\"],\n",
    "                      dtype=[('user_id', np.int32), ('item_id', np.int32), ('rating', np.int32), ('timestamp', np.int64)], \n",
    "                  delimiter=\"\\t\")\n",
    "data_df"
   ]
  },
  {
   "cell_type": "markdown",
   "metadata": {},
   "source": [
    "What a difference! Apart from the case that Jupyter Notebooks have native support for Pandas DataFrames, we see that with a single function we can load the whole data (just as before) with a single function.\n",
    "\n",
    "Similarly as with NumPy, we had to take into account some considerations:\n",
    "\n",
    "1. We defined our expected datatypes: **THIS IS IMPORTANT** ~~NumPy~~ Pandas can figure out what data types there are in the data (but if it just feels lazy it will try to load everything as a `np.float32`). Part of the huge speeds that we can obtain with ~~NumPy~~ Pandas and similar libraries is that we define with precision the data types that we're going to work with.\n",
    "\n",
    "2. We defined the delimiter: Again, ~~NumPy~~ Pandas will try to figure out what delimiter we're using, but if we can help it, we'll get results faster (and with less probability of errors 🤓)."
   ]
  },
  {
   "cell_type": "markdown",
   "metadata": {},
   "source": [
    "### Series\n",
    "\n",
    "Here we are in front of the concept of `Series`. Pandas stores columns in what they call `Series` which are extensions of NumPy arrays (the underlying data structure is still a Numpy Array). We can access each `Series` using either an `.attribute` notation (only with valid Python variable names) or by using the `[dictionary_key]` notation (valid with any column name).\n",
    "\n",
    "As you can imagine, DataFrames are just collections of Series that are somehow connected together."
   ]
  },
  {
   "cell_type": "code",
   "execution_count": 37,
   "metadata": {},
   "outputs": [
    {
     "data": {
      "text/plain": [
       "0        196\n",
       "1        186\n",
       "2         22\n",
       "3        244\n",
       "4        166\n",
       "        ... \n",
       "99995    880\n",
       "99996    716\n",
       "99997    276\n",
       "99998     13\n",
       "99999     12\n",
       "Name: user_id, Length: 100000, dtype: int32"
      ]
     },
     "execution_count": 37,
     "metadata": {},
     "output_type": "execute_result"
    }
   ],
   "source": [
    "data_df.user_id"
   ]
  },
  {
   "cell_type": "code",
   "execution_count": 38,
   "metadata": {},
   "outputs": [
    {
     "data": {
      "text/plain": [
       "0        881250949\n",
       "1        891717742\n",
       "2        878887116\n",
       "3        880606923\n",
       "4        886397596\n",
       "           ...    \n",
       "99995    880175444\n",
       "99996    879795543\n",
       "99997    874795795\n",
       "99998    882399156\n",
       "99999    879959583\n",
       "Name: timestamp, Length: 100000, dtype: int64"
      ]
     },
     "execution_count": 38,
     "metadata": {},
     "output_type": "execute_result"
    }
   ],
   "source": [
    "data_df[\"timestamp\"]"
   ]
  },
  {
   "cell_type": "markdown",
   "metadata": {},
   "source": [
    "### Basic operations\n",
    "\n",
    "We still have basic operations and methods."
   ]
  },
  {
   "cell_type": "code",
   "execution_count": 39,
   "metadata": {},
   "outputs": [
    {
     "name": "stdout",
     "output_type": "stream",
     "text": [
      "data_df.shape=(100000, 4)\n",
      "data_df.ndim=2\n"
     ]
    }
   ],
   "source": [
    "# First, let's see the shape of the array, i.e., the size of each dimension\n",
    "print(f\"{data_df.shape=}\")\n",
    "\n",
    "# Let's see the number of dimensions\n",
    "print(f\"{data_df.ndim=}\")"
   ]
  },
  {
   "cell_type": "markdown",
   "metadata": {},
   "source": [
    "### Indexing on Pandas\n",
    "\n",
    "Pandas diverges in the way you access the rows or columns with respect to NumPy. For each DataFrame or Series object, we have an `index`. This `index` object is what we use to get rows under certain circumstances. \n",
    "\n",
    "For instance, `data_df[0]` doesn't return what you'd expect.\n"
   ]
  },
  {
   "cell_type": "code",
   "execution_count": 40,
   "metadata": {},
   "outputs": [
    {
     "ename": "KeyError",
     "evalue": "0",
     "output_type": "error",
     "traceback": [
      "\u001b[0;31m---------------------------------------------------------------------------\u001b[0m",
      "\u001b[0;31mKeyError\u001b[0m                                  Traceback (most recent call last)",
      "\u001b[0;32m/usr/local/Caskroom/miniconda/base/envs/data-mining-and-text-mining/lib/python3.8/site-packages/pandas/core/indexes/base.py\u001b[0m in \u001b[0;36mget_loc\u001b[0;34m(self, key, method, tolerance)\u001b[0m\n\u001b[1;32m   2888\u001b[0m             \u001b[0;32mtry\u001b[0m\u001b[0;34m:\u001b[0m\u001b[0;34m\u001b[0m\u001b[0;34m\u001b[0m\u001b[0m\n\u001b[0;32m-> 2889\u001b[0;31m                 \u001b[0;32mreturn\u001b[0m \u001b[0mself\u001b[0m\u001b[0;34m.\u001b[0m\u001b[0m_engine\u001b[0m\u001b[0;34m.\u001b[0m\u001b[0mget_loc\u001b[0m\u001b[0;34m(\u001b[0m\u001b[0mcasted_key\u001b[0m\u001b[0;34m)\u001b[0m\u001b[0;34m\u001b[0m\u001b[0;34m\u001b[0m\u001b[0m\n\u001b[0m\u001b[1;32m   2890\u001b[0m             \u001b[0;32mexcept\u001b[0m \u001b[0mKeyError\u001b[0m \u001b[0;32mas\u001b[0m \u001b[0merr\u001b[0m\u001b[0;34m:\u001b[0m\u001b[0;34m\u001b[0m\u001b[0;34m\u001b[0m\u001b[0m\n",
      "\u001b[0;32mpandas/_libs/index.pyx\u001b[0m in \u001b[0;36mpandas._libs.index.IndexEngine.get_loc\u001b[0;34m()\u001b[0m\n",
      "\u001b[0;32mpandas/_libs/index.pyx\u001b[0m in \u001b[0;36mpandas._libs.index.IndexEngine.get_loc\u001b[0;34m()\u001b[0m\n",
      "\u001b[0;32mpandas/_libs/hashtable_class_helper.pxi\u001b[0m in \u001b[0;36mpandas._libs.hashtable.PyObjectHashTable.get_item\u001b[0;34m()\u001b[0m\n",
      "\u001b[0;32mpandas/_libs/hashtable_class_helper.pxi\u001b[0m in \u001b[0;36mpandas._libs.hashtable.PyObjectHashTable.get_item\u001b[0;34m()\u001b[0m\n",
      "\u001b[0;31mKeyError\u001b[0m: 0",
      "\nThe above exception was the direct cause of the following exception:\n",
      "\u001b[0;31mKeyError\u001b[0m                                  Traceback (most recent call last)",
      "\u001b[0;32m<ipython-input-40-8535285ae2b3>\u001b[0m in \u001b[0;36m<module>\u001b[0;34m\u001b[0m\n\u001b[0;32m----> 1\u001b[0;31m \u001b[0mdata_df\u001b[0m\u001b[0;34m[\u001b[0m\u001b[0;36m0\u001b[0m\u001b[0;34m]\u001b[0m\u001b[0;34m\u001b[0m\u001b[0;34m\u001b[0m\u001b[0m\n\u001b[0m",
      "\u001b[0;32m/usr/local/Caskroom/miniconda/base/envs/data-mining-and-text-mining/lib/python3.8/site-packages/pandas/core/frame.py\u001b[0m in \u001b[0;36m__getitem__\u001b[0;34m(self, key)\u001b[0m\n\u001b[1;32m   2900\u001b[0m             \u001b[0;32mif\u001b[0m \u001b[0mself\u001b[0m\u001b[0;34m.\u001b[0m\u001b[0mcolumns\u001b[0m\u001b[0;34m.\u001b[0m\u001b[0mnlevels\u001b[0m \u001b[0;34m>\u001b[0m \u001b[0;36m1\u001b[0m\u001b[0;34m:\u001b[0m\u001b[0;34m\u001b[0m\u001b[0;34m\u001b[0m\u001b[0m\n\u001b[1;32m   2901\u001b[0m                 \u001b[0;32mreturn\u001b[0m \u001b[0mself\u001b[0m\u001b[0;34m.\u001b[0m\u001b[0m_getitem_multilevel\u001b[0m\u001b[0;34m(\u001b[0m\u001b[0mkey\u001b[0m\u001b[0;34m)\u001b[0m\u001b[0;34m\u001b[0m\u001b[0;34m\u001b[0m\u001b[0m\n\u001b[0;32m-> 2902\u001b[0;31m             \u001b[0mindexer\u001b[0m \u001b[0;34m=\u001b[0m \u001b[0mself\u001b[0m\u001b[0;34m.\u001b[0m\u001b[0mcolumns\u001b[0m\u001b[0;34m.\u001b[0m\u001b[0mget_loc\u001b[0m\u001b[0;34m(\u001b[0m\u001b[0mkey\u001b[0m\u001b[0;34m)\u001b[0m\u001b[0;34m\u001b[0m\u001b[0;34m\u001b[0m\u001b[0m\n\u001b[0m\u001b[1;32m   2903\u001b[0m             \u001b[0;32mif\u001b[0m \u001b[0mis_integer\u001b[0m\u001b[0;34m(\u001b[0m\u001b[0mindexer\u001b[0m\u001b[0;34m)\u001b[0m\u001b[0;34m:\u001b[0m\u001b[0;34m\u001b[0m\u001b[0;34m\u001b[0m\u001b[0m\n\u001b[1;32m   2904\u001b[0m                 \u001b[0mindexer\u001b[0m \u001b[0;34m=\u001b[0m \u001b[0;34m[\u001b[0m\u001b[0mindexer\u001b[0m\u001b[0;34m]\u001b[0m\u001b[0;34m\u001b[0m\u001b[0;34m\u001b[0m\u001b[0m\n",
      "\u001b[0;32m/usr/local/Caskroom/miniconda/base/envs/data-mining-and-text-mining/lib/python3.8/site-packages/pandas/core/indexes/base.py\u001b[0m in \u001b[0;36mget_loc\u001b[0;34m(self, key, method, tolerance)\u001b[0m\n\u001b[1;32m   2889\u001b[0m                 \u001b[0;32mreturn\u001b[0m \u001b[0mself\u001b[0m\u001b[0;34m.\u001b[0m\u001b[0m_engine\u001b[0m\u001b[0;34m.\u001b[0m\u001b[0mget_loc\u001b[0m\u001b[0;34m(\u001b[0m\u001b[0mcasted_key\u001b[0m\u001b[0;34m)\u001b[0m\u001b[0;34m\u001b[0m\u001b[0;34m\u001b[0m\u001b[0m\n\u001b[1;32m   2890\u001b[0m             \u001b[0;32mexcept\u001b[0m \u001b[0mKeyError\u001b[0m \u001b[0;32mas\u001b[0m \u001b[0merr\u001b[0m\u001b[0;34m:\u001b[0m\u001b[0;34m\u001b[0m\u001b[0;34m\u001b[0m\u001b[0m\n\u001b[0;32m-> 2891\u001b[0;31m                 \u001b[0;32mraise\u001b[0m \u001b[0mKeyError\u001b[0m\u001b[0;34m(\u001b[0m\u001b[0mkey\u001b[0m\u001b[0;34m)\u001b[0m \u001b[0;32mfrom\u001b[0m \u001b[0merr\u001b[0m\u001b[0;34m\u001b[0m\u001b[0;34m\u001b[0m\u001b[0m\n\u001b[0m\u001b[1;32m   2892\u001b[0m \u001b[0;34m\u001b[0m\u001b[0m\n\u001b[1;32m   2893\u001b[0m         \u001b[0;32mif\u001b[0m \u001b[0mtolerance\u001b[0m \u001b[0;32mis\u001b[0m \u001b[0;32mnot\u001b[0m \u001b[0;32mNone\u001b[0m\u001b[0;34m:\u001b[0m\u001b[0;34m\u001b[0m\u001b[0;34m\u001b[0m\u001b[0m\n",
      "\u001b[0;31mKeyError\u001b[0m: 0"
     ]
    }
   ],
   "source": [
    "data_df[0]"
   ]
  },
  {
   "cell_type": "markdown",
   "metadata": {},
   "source": [
    "Instead, you'll need to use the `iloc` attribute."
   ]
  },
  {
   "cell_type": "code",
   "execution_count": 41,
   "metadata": {},
   "outputs": [
    {
     "data": {
      "text/plain": [
       "user_id            196\n",
       "item_id            242\n",
       "rating               3\n",
       "timestamp    881250949\n",
       "Name: 0, dtype: int64"
      ]
     },
     "execution_count": 41,
     "metadata": {},
     "output_type": "execute_result"
    }
   ],
   "source": [
    "data_df.iloc[0]"
   ]
  },
  {
   "cell_type": "markdown",
   "metadata": {},
   "source": [
    "Do you remember how we retrieved the `timestamp` column before? This is what the `[]` operator works on Pandas, it returns a Series if the key matches a column name."
   ]
  },
  {
   "cell_type": "code",
   "execution_count": 42,
   "metadata": {},
   "outputs": [
    {
     "ename": "KeyError",
     "evalue": "'invalid_column'",
     "output_type": "error",
     "traceback": [
      "\u001b[0;31m---------------------------------------------------------------------------\u001b[0m",
      "\u001b[0;31mKeyError\u001b[0m                                  Traceback (most recent call last)",
      "\u001b[0;32m/usr/local/Caskroom/miniconda/base/envs/data-mining-and-text-mining/lib/python3.8/site-packages/pandas/core/indexes/base.py\u001b[0m in \u001b[0;36mget_loc\u001b[0;34m(self, key, method, tolerance)\u001b[0m\n\u001b[1;32m   2888\u001b[0m             \u001b[0;32mtry\u001b[0m\u001b[0;34m:\u001b[0m\u001b[0;34m\u001b[0m\u001b[0;34m\u001b[0m\u001b[0m\n\u001b[0;32m-> 2889\u001b[0;31m                 \u001b[0;32mreturn\u001b[0m \u001b[0mself\u001b[0m\u001b[0;34m.\u001b[0m\u001b[0m_engine\u001b[0m\u001b[0;34m.\u001b[0m\u001b[0mget_loc\u001b[0m\u001b[0;34m(\u001b[0m\u001b[0mcasted_key\u001b[0m\u001b[0;34m)\u001b[0m\u001b[0;34m\u001b[0m\u001b[0;34m\u001b[0m\u001b[0m\n\u001b[0m\u001b[1;32m   2890\u001b[0m             \u001b[0;32mexcept\u001b[0m \u001b[0mKeyError\u001b[0m \u001b[0;32mas\u001b[0m \u001b[0merr\u001b[0m\u001b[0;34m:\u001b[0m\u001b[0;34m\u001b[0m\u001b[0;34m\u001b[0m\u001b[0m\n",
      "\u001b[0;32mpandas/_libs/index.pyx\u001b[0m in \u001b[0;36mpandas._libs.index.IndexEngine.get_loc\u001b[0;34m()\u001b[0m\n",
      "\u001b[0;32mpandas/_libs/index.pyx\u001b[0m in \u001b[0;36mpandas._libs.index.IndexEngine.get_loc\u001b[0;34m()\u001b[0m\n",
      "\u001b[0;32mpandas/_libs/hashtable_class_helper.pxi\u001b[0m in \u001b[0;36mpandas._libs.hashtable.PyObjectHashTable.get_item\u001b[0;34m()\u001b[0m\n",
      "\u001b[0;32mpandas/_libs/hashtable_class_helper.pxi\u001b[0m in \u001b[0;36mpandas._libs.hashtable.PyObjectHashTable.get_item\u001b[0;34m()\u001b[0m\n",
      "\u001b[0;31mKeyError\u001b[0m: 'invalid_column'",
      "\nThe above exception was the direct cause of the following exception:\n",
      "\u001b[0;31mKeyError\u001b[0m                                  Traceback (most recent call last)",
      "\u001b[0;32m<ipython-input-42-e97480887c95>\u001b[0m in \u001b[0;36m<module>\u001b[0;34m\u001b[0m\n\u001b[0;32m----> 1\u001b[0;31m \u001b[0mdata_df\u001b[0m\u001b[0;34m[\u001b[0m\u001b[0;34m\"invalid_column\"\u001b[0m\u001b[0;34m]\u001b[0m\u001b[0;34m\u001b[0m\u001b[0;34m\u001b[0m\u001b[0m\n\u001b[0m",
      "\u001b[0;32m/usr/local/Caskroom/miniconda/base/envs/data-mining-and-text-mining/lib/python3.8/site-packages/pandas/core/frame.py\u001b[0m in \u001b[0;36m__getitem__\u001b[0;34m(self, key)\u001b[0m\n\u001b[1;32m   2900\u001b[0m             \u001b[0;32mif\u001b[0m \u001b[0mself\u001b[0m\u001b[0;34m.\u001b[0m\u001b[0mcolumns\u001b[0m\u001b[0;34m.\u001b[0m\u001b[0mnlevels\u001b[0m \u001b[0;34m>\u001b[0m \u001b[0;36m1\u001b[0m\u001b[0;34m:\u001b[0m\u001b[0;34m\u001b[0m\u001b[0;34m\u001b[0m\u001b[0m\n\u001b[1;32m   2901\u001b[0m                 \u001b[0;32mreturn\u001b[0m \u001b[0mself\u001b[0m\u001b[0;34m.\u001b[0m\u001b[0m_getitem_multilevel\u001b[0m\u001b[0;34m(\u001b[0m\u001b[0mkey\u001b[0m\u001b[0;34m)\u001b[0m\u001b[0;34m\u001b[0m\u001b[0;34m\u001b[0m\u001b[0m\n\u001b[0;32m-> 2902\u001b[0;31m             \u001b[0mindexer\u001b[0m \u001b[0;34m=\u001b[0m \u001b[0mself\u001b[0m\u001b[0;34m.\u001b[0m\u001b[0mcolumns\u001b[0m\u001b[0;34m.\u001b[0m\u001b[0mget_loc\u001b[0m\u001b[0;34m(\u001b[0m\u001b[0mkey\u001b[0m\u001b[0;34m)\u001b[0m\u001b[0;34m\u001b[0m\u001b[0;34m\u001b[0m\u001b[0m\n\u001b[0m\u001b[1;32m   2903\u001b[0m             \u001b[0;32mif\u001b[0m \u001b[0mis_integer\u001b[0m\u001b[0;34m(\u001b[0m\u001b[0mindexer\u001b[0m\u001b[0;34m)\u001b[0m\u001b[0;34m:\u001b[0m\u001b[0;34m\u001b[0m\u001b[0;34m\u001b[0m\u001b[0m\n\u001b[1;32m   2904\u001b[0m                 \u001b[0mindexer\u001b[0m \u001b[0;34m=\u001b[0m \u001b[0;34m[\u001b[0m\u001b[0mindexer\u001b[0m\u001b[0;34m]\u001b[0m\u001b[0;34m\u001b[0m\u001b[0;34m\u001b[0m\u001b[0m\n",
      "\u001b[0;32m/usr/local/Caskroom/miniconda/base/envs/data-mining-and-text-mining/lib/python3.8/site-packages/pandas/core/indexes/base.py\u001b[0m in \u001b[0;36mget_loc\u001b[0;34m(self, key, method, tolerance)\u001b[0m\n\u001b[1;32m   2889\u001b[0m                 \u001b[0;32mreturn\u001b[0m \u001b[0mself\u001b[0m\u001b[0;34m.\u001b[0m\u001b[0m_engine\u001b[0m\u001b[0;34m.\u001b[0m\u001b[0mget_loc\u001b[0m\u001b[0;34m(\u001b[0m\u001b[0mcasted_key\u001b[0m\u001b[0;34m)\u001b[0m\u001b[0;34m\u001b[0m\u001b[0;34m\u001b[0m\u001b[0m\n\u001b[1;32m   2890\u001b[0m             \u001b[0;32mexcept\u001b[0m \u001b[0mKeyError\u001b[0m \u001b[0;32mas\u001b[0m \u001b[0merr\u001b[0m\u001b[0;34m:\u001b[0m\u001b[0;34m\u001b[0m\u001b[0;34m\u001b[0m\u001b[0m\n\u001b[0;32m-> 2891\u001b[0;31m                 \u001b[0;32mraise\u001b[0m \u001b[0mKeyError\u001b[0m\u001b[0;34m(\u001b[0m\u001b[0mkey\u001b[0m\u001b[0;34m)\u001b[0m \u001b[0;32mfrom\u001b[0m \u001b[0merr\u001b[0m\u001b[0;34m\u001b[0m\u001b[0;34m\u001b[0m\u001b[0m\n\u001b[0m\u001b[1;32m   2892\u001b[0m \u001b[0;34m\u001b[0m\u001b[0m\n\u001b[1;32m   2893\u001b[0m         \u001b[0;32mif\u001b[0m \u001b[0mtolerance\u001b[0m \u001b[0;32mis\u001b[0m \u001b[0;32mnot\u001b[0m \u001b[0;32mNone\u001b[0m\u001b[0;34m:\u001b[0m\u001b[0;34m\u001b[0m\u001b[0;34m\u001b[0m\u001b[0m\n",
      "\u001b[0;31mKeyError\u001b[0m: 'invalid_column'"
     ]
    }
   ],
   "source": [
    "data_df[\"invalid_column\"]"
   ]
  },
  {
   "cell_type": "code",
   "execution_count": 43,
   "metadata": {},
   "outputs": [
    {
     "data": {
      "text/plain": [
       "0        3\n",
       "1        3\n",
       "2        1\n",
       "3        2\n",
       "4        1\n",
       "        ..\n",
       "99995    3\n",
       "99996    5\n",
       "99997    1\n",
       "99998    2\n",
       "99999    3\n",
       "Name: rating, Length: 100000, dtype: int32"
      ]
     },
     "execution_count": 43,
     "metadata": {},
     "output_type": "execute_result"
    }
   ],
   "source": [
    "data_df[\"rating\"]"
   ]
  },
  {
   "cell_type": "markdown",
   "metadata": {},
   "source": [
    "### Slicing on Pandas\n",
    "\n",
    "Oh gosh, if I separated this into another section it's because it's a different topic, and you're not wrong.\n",
    "\n",
    "Slicing works more or less the same as with Python and NumPy. But only for rows.\n"
   ]
  },
  {
   "cell_type": "code",
   "execution_count": 45,
   "metadata": {},
   "outputs": [
    {
     "data": {
      "text/html": [
       "<div>\n",
       "<style scoped>\n",
       "    .dataframe tbody tr th:only-of-type {\n",
       "        vertical-align: middle;\n",
       "    }\n",
       "\n",
       "    .dataframe tbody tr th {\n",
       "        vertical-align: top;\n",
       "    }\n",
       "\n",
       "    .dataframe thead th {\n",
       "        text-align: right;\n",
       "    }\n",
       "</style>\n",
       "<table border=\"1\" class=\"dataframe\">\n",
       "  <thead>\n",
       "    <tr style=\"text-align: right;\">\n",
       "      <th></th>\n",
       "      <th>user_id</th>\n",
       "      <th>item_id</th>\n",
       "      <th>rating</th>\n",
       "      <th>timestamp</th>\n",
       "    </tr>\n",
       "  </thead>\n",
       "  <tbody>\n",
       "    <tr>\n",
       "      <th>0</th>\n",
       "      <td>196</td>\n",
       "      <td>242</td>\n",
       "      <td>3</td>\n",
       "      <td>881250949</td>\n",
       "    </tr>\n",
       "    <tr>\n",
       "      <th>1</th>\n",
       "      <td>186</td>\n",
       "      <td>302</td>\n",
       "      <td>3</td>\n",
       "      <td>891717742</td>\n",
       "    </tr>\n",
       "    <tr>\n",
       "      <th>2</th>\n",
       "      <td>22</td>\n",
       "      <td>377</td>\n",
       "      <td>1</td>\n",
       "      <td>878887116</td>\n",
       "    </tr>\n",
       "    <tr>\n",
       "      <th>3</th>\n",
       "      <td>244</td>\n",
       "      <td>51</td>\n",
       "      <td>2</td>\n",
       "      <td>880606923</td>\n",
       "    </tr>\n",
       "    <tr>\n",
       "      <th>4</th>\n",
       "      <td>166</td>\n",
       "      <td>346</td>\n",
       "      <td>1</td>\n",
       "      <td>886397596</td>\n",
       "    </tr>\n",
       "  </tbody>\n",
       "</table>\n",
       "</div>"
      ],
      "text/plain": [
       "   user_id  item_id  rating  timestamp\n",
       "0      196      242       3  881250949\n",
       "1      186      302       3  891717742\n",
       "2       22      377       1  878887116\n",
       "3      244       51       2  880606923\n",
       "4      166      346       1  886397596"
      ]
     },
     "execution_count": 45,
     "metadata": {},
     "output_type": "execute_result"
    }
   ],
   "source": [
    "data_df[0:5]"
   ]
  },
  {
   "cell_type": "code",
   "execution_count": 46,
   "metadata": {},
   "outputs": [
    {
     "ename": "TypeError",
     "evalue": "'(slice(0, 5, None), slice(0, 2, None))' is an invalid key",
     "output_type": "error",
     "traceback": [
      "\u001b[0;31m---------------------------------------------------------------------------\u001b[0m",
      "\u001b[0;31mTypeError\u001b[0m                                 Traceback (most recent call last)",
      "\u001b[0;32m<ipython-input-46-52fddca02dc0>\u001b[0m in \u001b[0;36m<module>\u001b[0;34m\u001b[0m\n\u001b[0;32m----> 1\u001b[0;31m \u001b[0mdata_df\u001b[0m\u001b[0;34m[\u001b[0m\u001b[0;36m0\u001b[0m\u001b[0;34m:\u001b[0m\u001b[0;36m5\u001b[0m\u001b[0;34m,\u001b[0m \u001b[0;36m0\u001b[0m\u001b[0;34m:\u001b[0m\u001b[0;36m2\u001b[0m\u001b[0;34m]\u001b[0m\u001b[0;34m\u001b[0m\u001b[0;34m\u001b[0m\u001b[0m\n\u001b[0m",
      "\u001b[0;32m/usr/local/Caskroom/miniconda/base/envs/data-mining-and-text-mining/lib/python3.8/site-packages/pandas/core/frame.py\u001b[0m in \u001b[0;36m__getitem__\u001b[0;34m(self, key)\u001b[0m\n\u001b[1;32m   2900\u001b[0m             \u001b[0;32mif\u001b[0m \u001b[0mself\u001b[0m\u001b[0;34m.\u001b[0m\u001b[0mcolumns\u001b[0m\u001b[0;34m.\u001b[0m\u001b[0mnlevels\u001b[0m \u001b[0;34m>\u001b[0m \u001b[0;36m1\u001b[0m\u001b[0;34m:\u001b[0m\u001b[0;34m\u001b[0m\u001b[0;34m\u001b[0m\u001b[0m\n\u001b[1;32m   2901\u001b[0m                 \u001b[0;32mreturn\u001b[0m \u001b[0mself\u001b[0m\u001b[0;34m.\u001b[0m\u001b[0m_getitem_multilevel\u001b[0m\u001b[0;34m(\u001b[0m\u001b[0mkey\u001b[0m\u001b[0;34m)\u001b[0m\u001b[0;34m\u001b[0m\u001b[0;34m\u001b[0m\u001b[0m\n\u001b[0;32m-> 2902\u001b[0;31m             \u001b[0mindexer\u001b[0m \u001b[0;34m=\u001b[0m \u001b[0mself\u001b[0m\u001b[0;34m.\u001b[0m\u001b[0mcolumns\u001b[0m\u001b[0;34m.\u001b[0m\u001b[0mget_loc\u001b[0m\u001b[0;34m(\u001b[0m\u001b[0mkey\u001b[0m\u001b[0;34m)\u001b[0m\u001b[0;34m\u001b[0m\u001b[0;34m\u001b[0m\u001b[0m\n\u001b[0m\u001b[1;32m   2903\u001b[0m             \u001b[0;32mif\u001b[0m \u001b[0mis_integer\u001b[0m\u001b[0;34m(\u001b[0m\u001b[0mindexer\u001b[0m\u001b[0;34m)\u001b[0m\u001b[0;34m:\u001b[0m\u001b[0;34m\u001b[0m\u001b[0;34m\u001b[0m\u001b[0m\n\u001b[1;32m   2904\u001b[0m                 \u001b[0mindexer\u001b[0m \u001b[0;34m=\u001b[0m \u001b[0;34m[\u001b[0m\u001b[0mindexer\u001b[0m\u001b[0;34m]\u001b[0m\u001b[0;34m\u001b[0m\u001b[0;34m\u001b[0m\u001b[0m\n",
      "\u001b[0;32m/usr/local/Caskroom/miniconda/base/envs/data-mining-and-text-mining/lib/python3.8/site-packages/pandas/core/indexes/base.py\u001b[0m in \u001b[0;36mget_loc\u001b[0;34m(self, key, method, tolerance)\u001b[0m\n\u001b[1;32m   2887\u001b[0m             \u001b[0mcasted_key\u001b[0m \u001b[0;34m=\u001b[0m \u001b[0mself\u001b[0m\u001b[0;34m.\u001b[0m\u001b[0m_maybe_cast_indexer\u001b[0m\u001b[0;34m(\u001b[0m\u001b[0mkey\u001b[0m\u001b[0;34m)\u001b[0m\u001b[0;34m\u001b[0m\u001b[0;34m\u001b[0m\u001b[0m\n\u001b[1;32m   2888\u001b[0m             \u001b[0;32mtry\u001b[0m\u001b[0;34m:\u001b[0m\u001b[0;34m\u001b[0m\u001b[0;34m\u001b[0m\u001b[0m\n\u001b[0;32m-> 2889\u001b[0;31m                 \u001b[0;32mreturn\u001b[0m \u001b[0mself\u001b[0m\u001b[0;34m.\u001b[0m\u001b[0m_engine\u001b[0m\u001b[0;34m.\u001b[0m\u001b[0mget_loc\u001b[0m\u001b[0;34m(\u001b[0m\u001b[0mcasted_key\u001b[0m\u001b[0;34m)\u001b[0m\u001b[0;34m\u001b[0m\u001b[0;34m\u001b[0m\u001b[0m\n\u001b[0m\u001b[1;32m   2890\u001b[0m             \u001b[0;32mexcept\u001b[0m \u001b[0mKeyError\u001b[0m \u001b[0;32mas\u001b[0m \u001b[0merr\u001b[0m\u001b[0;34m:\u001b[0m\u001b[0;34m\u001b[0m\u001b[0;34m\u001b[0m\u001b[0m\n\u001b[1;32m   2891\u001b[0m                 \u001b[0;32mraise\u001b[0m \u001b[0mKeyError\u001b[0m\u001b[0;34m(\u001b[0m\u001b[0mkey\u001b[0m\u001b[0;34m)\u001b[0m \u001b[0;32mfrom\u001b[0m \u001b[0merr\u001b[0m\u001b[0;34m\u001b[0m\u001b[0;34m\u001b[0m\u001b[0m\n",
      "\u001b[0;32mpandas/_libs/index.pyx\u001b[0m in \u001b[0;36mpandas._libs.index.IndexEngine.get_loc\u001b[0;34m()\u001b[0m\n",
      "\u001b[0;32mpandas/_libs/index.pyx\u001b[0m in \u001b[0;36mpandas._libs.index.IndexEngine.get_loc\u001b[0;34m()\u001b[0m\n",
      "\u001b[0;31mTypeError\u001b[0m: '(slice(0, 5, None), slice(0, 2, None))' is an invalid key"
     ]
    }
   ],
   "source": [
    "data_df[0:5, 0:2]"
   ]
  },
  {
   "cell_type": "code",
   "execution_count": 47,
   "metadata": {},
   "outputs": [
    {
     "ename": "TypeError",
     "evalue": "'(slice(0, 5, None), 2)' is an invalid key",
     "output_type": "error",
     "traceback": [
      "\u001b[0;31m---------------------------------------------------------------------------\u001b[0m",
      "\u001b[0;31mTypeError\u001b[0m                                 Traceback (most recent call last)",
      "\u001b[0;32m<ipython-input-47-730341c9a6b6>\u001b[0m in \u001b[0;36m<module>\u001b[0;34m\u001b[0m\n\u001b[0;32m----> 1\u001b[0;31m \u001b[0mdata_df\u001b[0m\u001b[0;34m[\u001b[0m\u001b[0;36m0\u001b[0m\u001b[0;34m:\u001b[0m\u001b[0;36m5\u001b[0m\u001b[0;34m,\u001b[0m \u001b[0;36m2\u001b[0m\u001b[0;34m]\u001b[0m\u001b[0;34m\u001b[0m\u001b[0;34m\u001b[0m\u001b[0m\n\u001b[0m",
      "\u001b[0;32m/usr/local/Caskroom/miniconda/base/envs/data-mining-and-text-mining/lib/python3.8/site-packages/pandas/core/frame.py\u001b[0m in \u001b[0;36m__getitem__\u001b[0;34m(self, key)\u001b[0m\n\u001b[1;32m   2900\u001b[0m             \u001b[0;32mif\u001b[0m \u001b[0mself\u001b[0m\u001b[0;34m.\u001b[0m\u001b[0mcolumns\u001b[0m\u001b[0;34m.\u001b[0m\u001b[0mnlevels\u001b[0m \u001b[0;34m>\u001b[0m \u001b[0;36m1\u001b[0m\u001b[0;34m:\u001b[0m\u001b[0;34m\u001b[0m\u001b[0;34m\u001b[0m\u001b[0m\n\u001b[1;32m   2901\u001b[0m                 \u001b[0;32mreturn\u001b[0m \u001b[0mself\u001b[0m\u001b[0;34m.\u001b[0m\u001b[0m_getitem_multilevel\u001b[0m\u001b[0;34m(\u001b[0m\u001b[0mkey\u001b[0m\u001b[0;34m)\u001b[0m\u001b[0;34m\u001b[0m\u001b[0;34m\u001b[0m\u001b[0m\n\u001b[0;32m-> 2902\u001b[0;31m             \u001b[0mindexer\u001b[0m \u001b[0;34m=\u001b[0m \u001b[0mself\u001b[0m\u001b[0;34m.\u001b[0m\u001b[0mcolumns\u001b[0m\u001b[0;34m.\u001b[0m\u001b[0mget_loc\u001b[0m\u001b[0;34m(\u001b[0m\u001b[0mkey\u001b[0m\u001b[0;34m)\u001b[0m\u001b[0;34m\u001b[0m\u001b[0;34m\u001b[0m\u001b[0m\n\u001b[0m\u001b[1;32m   2903\u001b[0m             \u001b[0;32mif\u001b[0m \u001b[0mis_integer\u001b[0m\u001b[0;34m(\u001b[0m\u001b[0mindexer\u001b[0m\u001b[0;34m)\u001b[0m\u001b[0;34m:\u001b[0m\u001b[0;34m\u001b[0m\u001b[0;34m\u001b[0m\u001b[0m\n\u001b[1;32m   2904\u001b[0m                 \u001b[0mindexer\u001b[0m \u001b[0;34m=\u001b[0m \u001b[0;34m[\u001b[0m\u001b[0mindexer\u001b[0m\u001b[0;34m]\u001b[0m\u001b[0;34m\u001b[0m\u001b[0;34m\u001b[0m\u001b[0m\n",
      "\u001b[0;32m/usr/local/Caskroom/miniconda/base/envs/data-mining-and-text-mining/lib/python3.8/site-packages/pandas/core/indexes/base.py\u001b[0m in \u001b[0;36mget_loc\u001b[0;34m(self, key, method, tolerance)\u001b[0m\n\u001b[1;32m   2887\u001b[0m             \u001b[0mcasted_key\u001b[0m \u001b[0;34m=\u001b[0m \u001b[0mself\u001b[0m\u001b[0;34m.\u001b[0m\u001b[0m_maybe_cast_indexer\u001b[0m\u001b[0;34m(\u001b[0m\u001b[0mkey\u001b[0m\u001b[0;34m)\u001b[0m\u001b[0;34m\u001b[0m\u001b[0;34m\u001b[0m\u001b[0m\n\u001b[1;32m   2888\u001b[0m             \u001b[0;32mtry\u001b[0m\u001b[0;34m:\u001b[0m\u001b[0;34m\u001b[0m\u001b[0;34m\u001b[0m\u001b[0m\n\u001b[0;32m-> 2889\u001b[0;31m                 \u001b[0;32mreturn\u001b[0m \u001b[0mself\u001b[0m\u001b[0;34m.\u001b[0m\u001b[0m_engine\u001b[0m\u001b[0;34m.\u001b[0m\u001b[0mget_loc\u001b[0m\u001b[0;34m(\u001b[0m\u001b[0mcasted_key\u001b[0m\u001b[0;34m)\u001b[0m\u001b[0;34m\u001b[0m\u001b[0;34m\u001b[0m\u001b[0m\n\u001b[0m\u001b[1;32m   2890\u001b[0m             \u001b[0;32mexcept\u001b[0m \u001b[0mKeyError\u001b[0m \u001b[0;32mas\u001b[0m \u001b[0merr\u001b[0m\u001b[0;34m:\u001b[0m\u001b[0;34m\u001b[0m\u001b[0;34m\u001b[0m\u001b[0m\n\u001b[1;32m   2891\u001b[0m                 \u001b[0;32mraise\u001b[0m \u001b[0mKeyError\u001b[0m\u001b[0;34m(\u001b[0m\u001b[0mkey\u001b[0m\u001b[0;34m)\u001b[0m \u001b[0;32mfrom\u001b[0m \u001b[0merr\u001b[0m\u001b[0;34m\u001b[0m\u001b[0;34m\u001b[0m\u001b[0m\n",
      "\u001b[0;32mpandas/_libs/index.pyx\u001b[0m in \u001b[0;36mpandas._libs.index.IndexEngine.get_loc\u001b[0;34m()\u001b[0m\n",
      "\u001b[0;32mpandas/_libs/index.pyx\u001b[0m in \u001b[0;36mpandas._libs.index.IndexEngine.get_loc\u001b[0;34m()\u001b[0m\n",
      "\u001b[0;31mTypeError\u001b[0m: '(slice(0, 5, None), 2)' is an invalid key"
     ]
    }
   ],
   "source": [
    "data_df[0:5, 2]"
   ]
  },
  {
   "cell_type": "code",
   "execution_count": 48,
   "metadata": {},
   "outputs": [
    {
     "ename": "TypeError",
     "evalue": "'(slice(0, 5, None), 'rating')' is an invalid key",
     "output_type": "error",
     "traceback": [
      "\u001b[0;31m---------------------------------------------------------------------------\u001b[0m",
      "\u001b[0;31mTypeError\u001b[0m                                 Traceback (most recent call last)",
      "\u001b[0;32m<ipython-input-48-35e494211832>\u001b[0m in \u001b[0;36m<module>\u001b[0;34m\u001b[0m\n\u001b[0;32m----> 1\u001b[0;31m \u001b[0mdata_df\u001b[0m\u001b[0;34m[\u001b[0m\u001b[0;36m0\u001b[0m\u001b[0;34m:\u001b[0m\u001b[0;36m5\u001b[0m\u001b[0;34m,\u001b[0m \u001b[0;34m\"rating\"\u001b[0m\u001b[0;34m]\u001b[0m\u001b[0;34m\u001b[0m\u001b[0;34m\u001b[0m\u001b[0m\n\u001b[0m",
      "\u001b[0;32m/usr/local/Caskroom/miniconda/base/envs/data-mining-and-text-mining/lib/python3.8/site-packages/pandas/core/frame.py\u001b[0m in \u001b[0;36m__getitem__\u001b[0;34m(self, key)\u001b[0m\n\u001b[1;32m   2900\u001b[0m             \u001b[0;32mif\u001b[0m \u001b[0mself\u001b[0m\u001b[0;34m.\u001b[0m\u001b[0mcolumns\u001b[0m\u001b[0;34m.\u001b[0m\u001b[0mnlevels\u001b[0m \u001b[0;34m>\u001b[0m \u001b[0;36m1\u001b[0m\u001b[0;34m:\u001b[0m\u001b[0;34m\u001b[0m\u001b[0;34m\u001b[0m\u001b[0m\n\u001b[1;32m   2901\u001b[0m                 \u001b[0;32mreturn\u001b[0m \u001b[0mself\u001b[0m\u001b[0;34m.\u001b[0m\u001b[0m_getitem_multilevel\u001b[0m\u001b[0;34m(\u001b[0m\u001b[0mkey\u001b[0m\u001b[0;34m)\u001b[0m\u001b[0;34m\u001b[0m\u001b[0;34m\u001b[0m\u001b[0m\n\u001b[0;32m-> 2902\u001b[0;31m             \u001b[0mindexer\u001b[0m \u001b[0;34m=\u001b[0m \u001b[0mself\u001b[0m\u001b[0;34m.\u001b[0m\u001b[0mcolumns\u001b[0m\u001b[0;34m.\u001b[0m\u001b[0mget_loc\u001b[0m\u001b[0;34m(\u001b[0m\u001b[0mkey\u001b[0m\u001b[0;34m)\u001b[0m\u001b[0;34m\u001b[0m\u001b[0;34m\u001b[0m\u001b[0m\n\u001b[0m\u001b[1;32m   2903\u001b[0m             \u001b[0;32mif\u001b[0m \u001b[0mis_integer\u001b[0m\u001b[0;34m(\u001b[0m\u001b[0mindexer\u001b[0m\u001b[0;34m)\u001b[0m\u001b[0;34m:\u001b[0m\u001b[0;34m\u001b[0m\u001b[0;34m\u001b[0m\u001b[0m\n\u001b[1;32m   2904\u001b[0m                 \u001b[0mindexer\u001b[0m \u001b[0;34m=\u001b[0m \u001b[0;34m[\u001b[0m\u001b[0mindexer\u001b[0m\u001b[0;34m]\u001b[0m\u001b[0;34m\u001b[0m\u001b[0;34m\u001b[0m\u001b[0m\n",
      "\u001b[0;32m/usr/local/Caskroom/miniconda/base/envs/data-mining-and-text-mining/lib/python3.8/site-packages/pandas/core/indexes/base.py\u001b[0m in \u001b[0;36mget_loc\u001b[0;34m(self, key, method, tolerance)\u001b[0m\n\u001b[1;32m   2887\u001b[0m             \u001b[0mcasted_key\u001b[0m \u001b[0;34m=\u001b[0m \u001b[0mself\u001b[0m\u001b[0;34m.\u001b[0m\u001b[0m_maybe_cast_indexer\u001b[0m\u001b[0;34m(\u001b[0m\u001b[0mkey\u001b[0m\u001b[0;34m)\u001b[0m\u001b[0;34m\u001b[0m\u001b[0;34m\u001b[0m\u001b[0m\n\u001b[1;32m   2888\u001b[0m             \u001b[0;32mtry\u001b[0m\u001b[0;34m:\u001b[0m\u001b[0;34m\u001b[0m\u001b[0;34m\u001b[0m\u001b[0m\n\u001b[0;32m-> 2889\u001b[0;31m                 \u001b[0;32mreturn\u001b[0m \u001b[0mself\u001b[0m\u001b[0;34m.\u001b[0m\u001b[0m_engine\u001b[0m\u001b[0;34m.\u001b[0m\u001b[0mget_loc\u001b[0m\u001b[0;34m(\u001b[0m\u001b[0mcasted_key\u001b[0m\u001b[0;34m)\u001b[0m\u001b[0;34m\u001b[0m\u001b[0;34m\u001b[0m\u001b[0m\n\u001b[0m\u001b[1;32m   2890\u001b[0m             \u001b[0;32mexcept\u001b[0m \u001b[0mKeyError\u001b[0m \u001b[0;32mas\u001b[0m \u001b[0merr\u001b[0m\u001b[0;34m:\u001b[0m\u001b[0;34m\u001b[0m\u001b[0;34m\u001b[0m\u001b[0m\n\u001b[1;32m   2891\u001b[0m                 \u001b[0;32mraise\u001b[0m \u001b[0mKeyError\u001b[0m\u001b[0;34m(\u001b[0m\u001b[0mkey\u001b[0m\u001b[0;34m)\u001b[0m \u001b[0;32mfrom\u001b[0m \u001b[0merr\u001b[0m\u001b[0;34m\u001b[0m\u001b[0;34m\u001b[0m\u001b[0m\n",
      "\u001b[0;32mpandas/_libs/index.pyx\u001b[0m in \u001b[0;36mpandas._libs.index.IndexEngine.get_loc\u001b[0;34m()\u001b[0m\n",
      "\u001b[0;32mpandas/_libs/index.pyx\u001b[0m in \u001b[0;36mpandas._libs.index.IndexEngine.get_loc\u001b[0;34m()\u001b[0m\n",
      "\u001b[0;31mTypeError\u001b[0m: '(slice(0, 5, None), 'rating')' is an invalid key"
     ]
    }
   ],
   "source": [
    "data_df[0:5, \"rating\"]"
   ]
  },
  {
   "cell_type": "code",
   "execution_count": 50,
   "metadata": {},
   "outputs": [
    {
     "data": {
      "text/plain": [
       "0    3\n",
       "1    3\n",
       "2    1\n",
       "3    2\n",
       "4    1\n",
       "Name: rating, dtype: int32"
      ]
     },
     "execution_count": 50,
     "metadata": {},
     "output_type": "execute_result"
    }
   ],
   "source": [
    "data_df[0:5][\"rating\"]"
   ]
  },
  {
   "cell_type": "markdown",
   "metadata": {},
   "source": [
    "### Operations on Columns\n",
    "\n",
    "Remember when we added and substracted ratings, and normalized and standardized ratings? We're going to do the same. \n",
    "\n",
    "BUT. We're going to add those values as columns in our DataFrame ~~and maybe make a mistake too in order to delete it~~"
   ]
  },
  {
   "cell_type": "code",
   "execution_count": 52,
   "metadata": {},
   "outputs": [
    {
     "data": {
      "text/html": [
       "<div>\n",
       "<style scoped>\n",
       "    .dataframe tbody tr th:only-of-type {\n",
       "        vertical-align: middle;\n",
       "    }\n",
       "\n",
       "    .dataframe tbody tr th {\n",
       "        vertical-align: top;\n",
       "    }\n",
       "\n",
       "    .dataframe thead th {\n",
       "        text-align: right;\n",
       "    }\n",
       "</style>\n",
       "<table border=\"1\" class=\"dataframe\">\n",
       "  <thead>\n",
       "    <tr style=\"text-align: right;\">\n",
       "      <th></th>\n",
       "      <th>user_id</th>\n",
       "      <th>item_id</th>\n",
       "      <th>rating</th>\n",
       "      <th>timestamp</th>\n",
       "      <th>timestamps_plus_one_sec</th>\n",
       "      <th>timestamps_minus_two_mins</th>\n",
       "    </tr>\n",
       "  </thead>\n",
       "  <tbody>\n",
       "    <tr>\n",
       "      <th>0</th>\n",
       "      <td>196</td>\n",
       "      <td>242</td>\n",
       "      <td>3</td>\n",
       "      <td>881250949</td>\n",
       "      <td>881251949</td>\n",
       "      <td>881370949</td>\n",
       "    </tr>\n",
       "    <tr>\n",
       "      <th>1</th>\n",
       "      <td>186</td>\n",
       "      <td>302</td>\n",
       "      <td>3</td>\n",
       "      <td>891717742</td>\n",
       "      <td>891718742</td>\n",
       "      <td>891837742</td>\n",
       "    </tr>\n",
       "    <tr>\n",
       "      <th>2</th>\n",
       "      <td>22</td>\n",
       "      <td>377</td>\n",
       "      <td>1</td>\n",
       "      <td>878887116</td>\n",
       "      <td>878888116</td>\n",
       "      <td>879007116</td>\n",
       "    </tr>\n",
       "    <tr>\n",
       "      <th>3</th>\n",
       "      <td>244</td>\n",
       "      <td>51</td>\n",
       "      <td>2</td>\n",
       "      <td>880606923</td>\n",
       "      <td>880607923</td>\n",
       "      <td>880726923</td>\n",
       "    </tr>\n",
       "    <tr>\n",
       "      <th>4</th>\n",
       "      <td>166</td>\n",
       "      <td>346</td>\n",
       "      <td>1</td>\n",
       "      <td>886397596</td>\n",
       "      <td>886398596</td>\n",
       "      <td>886517596</td>\n",
       "    </tr>\n",
       "    <tr>\n",
       "      <th>...</th>\n",
       "      <td>...</td>\n",
       "      <td>...</td>\n",
       "      <td>...</td>\n",
       "      <td>...</td>\n",
       "      <td>...</td>\n",
       "      <td>...</td>\n",
       "    </tr>\n",
       "    <tr>\n",
       "      <th>99995</th>\n",
       "      <td>880</td>\n",
       "      <td>476</td>\n",
       "      <td>3</td>\n",
       "      <td>880175444</td>\n",
       "      <td>880176444</td>\n",
       "      <td>880295444</td>\n",
       "    </tr>\n",
       "    <tr>\n",
       "      <th>99996</th>\n",
       "      <td>716</td>\n",
       "      <td>204</td>\n",
       "      <td>5</td>\n",
       "      <td>879795543</td>\n",
       "      <td>879796543</td>\n",
       "      <td>879915543</td>\n",
       "    </tr>\n",
       "    <tr>\n",
       "      <th>99997</th>\n",
       "      <td>276</td>\n",
       "      <td>1090</td>\n",
       "      <td>1</td>\n",
       "      <td>874795795</td>\n",
       "      <td>874796795</td>\n",
       "      <td>874915795</td>\n",
       "    </tr>\n",
       "    <tr>\n",
       "      <th>99998</th>\n",
       "      <td>13</td>\n",
       "      <td>225</td>\n",
       "      <td>2</td>\n",
       "      <td>882399156</td>\n",
       "      <td>882400156</td>\n",
       "      <td>882519156</td>\n",
       "    </tr>\n",
       "    <tr>\n",
       "      <th>99999</th>\n",
       "      <td>12</td>\n",
       "      <td>203</td>\n",
       "      <td>3</td>\n",
       "      <td>879959583</td>\n",
       "      <td>879960583</td>\n",
       "      <td>880079583</td>\n",
       "    </tr>\n",
       "  </tbody>\n",
       "</table>\n",
       "<p>100000 rows × 6 columns</p>\n",
       "</div>"
      ],
      "text/plain": [
       "       user_id  item_id  rating  timestamp  timestamps_plus_one_sec  \\\n",
       "0          196      242       3  881250949                881251949   \n",
       "1          186      302       3  891717742                891718742   \n",
       "2           22      377       1  878887116                878888116   \n",
       "3          244       51       2  880606923                880607923   \n",
       "4          166      346       1  886397596                886398596   \n",
       "...        ...      ...     ...        ...                      ...   \n",
       "99995      880      476       3  880175444                880176444   \n",
       "99996      716      204       5  879795543                879796543   \n",
       "99997      276     1090       1  874795795                874796795   \n",
       "99998       13      225       2  882399156                882400156   \n",
       "99999       12      203       3  879959583                879960583   \n",
       "\n",
       "       timestamps_minus_two_mins  \n",
       "0                      881370949  \n",
       "1                      891837742  \n",
       "2                      879007116  \n",
       "3                      880726923  \n",
       "4                      886517596  \n",
       "...                          ...  \n",
       "99995                  880295444  \n",
       "99996                  879915543  \n",
       "99997                  874915795  \n",
       "99998                  882519156  \n",
       "99999                  880079583  \n",
       "\n",
       "[100000 rows x 6 columns]"
      ]
     },
     "execution_count": 52,
     "metadata": {},
     "output_type": "execute_result"
    }
   ],
   "source": [
    "data_df[\"timestamps_plus_one_sec\"] = data_df[\"timestamp\"] + 1000\n",
    "data_df[\"timestamps_minus_two_mins\"] = data_df[\"timestamp\"] + 1000 * 60 * 2\n",
    "\n",
    "data_df"
   ]
  },
  {
   "cell_type": "code",
   "execution_count": 53,
   "metadata": {},
   "outputs": [
    {
     "data": {
      "text/html": [
       "<div>\n",
       "<style scoped>\n",
       "    .dataframe tbody tr th:only-of-type {\n",
       "        vertical-align: middle;\n",
       "    }\n",
       "\n",
       "    .dataframe tbody tr th {\n",
       "        vertical-align: top;\n",
       "    }\n",
       "\n",
       "    .dataframe thead th {\n",
       "        text-align: right;\n",
       "    }\n",
       "</style>\n",
       "<table border=\"1\" class=\"dataframe\">\n",
       "  <thead>\n",
       "    <tr style=\"text-align: right;\">\n",
       "      <th></th>\n",
       "      <th>user_id</th>\n",
       "      <th>item_id</th>\n",
       "      <th>rating</th>\n",
       "      <th>timestamp</th>\n",
       "      <th>timestamps_plus_one_sec</th>\n",
       "      <th>timestamps_minus_two_mins</th>\n",
       "      <th>norm_rating</th>\n",
       "      <th>standard_ratings</th>\n",
       "    </tr>\n",
       "  </thead>\n",
       "  <tbody>\n",
       "    <tr>\n",
       "      <th>0</th>\n",
       "      <td>196</td>\n",
       "      <td>242</td>\n",
       "      <td>3</td>\n",
       "      <td>881250949</td>\n",
       "      <td>881251949</td>\n",
       "      <td>881370949</td>\n",
       "      <td>0.50</td>\n",
       "      <td>-0.470705</td>\n",
       "    </tr>\n",
       "    <tr>\n",
       "      <th>1</th>\n",
       "      <td>186</td>\n",
       "      <td>302</td>\n",
       "      <td>3</td>\n",
       "      <td>891717742</td>\n",
       "      <td>891718742</td>\n",
       "      <td>891837742</td>\n",
       "      <td>0.50</td>\n",
       "      <td>-0.470705</td>\n",
       "    </tr>\n",
       "    <tr>\n",
       "      <th>2</th>\n",
       "      <td>22</td>\n",
       "      <td>377</td>\n",
       "      <td>1</td>\n",
       "      <td>878887116</td>\n",
       "      <td>878888116</td>\n",
       "      <td>879007116</td>\n",
       "      <td>0.00</td>\n",
       "      <td>-2.247419</td>\n",
       "    </tr>\n",
       "    <tr>\n",
       "      <th>3</th>\n",
       "      <td>244</td>\n",
       "      <td>51</td>\n",
       "      <td>2</td>\n",
       "      <td>880606923</td>\n",
       "      <td>880607923</td>\n",
       "      <td>880726923</td>\n",
       "      <td>0.25</td>\n",
       "      <td>-1.359062</td>\n",
       "    </tr>\n",
       "    <tr>\n",
       "      <th>4</th>\n",
       "      <td>166</td>\n",
       "      <td>346</td>\n",
       "      <td>1</td>\n",
       "      <td>886397596</td>\n",
       "      <td>886398596</td>\n",
       "      <td>886517596</td>\n",
       "      <td>0.00</td>\n",
       "      <td>-2.247419</td>\n",
       "    </tr>\n",
       "    <tr>\n",
       "      <th>...</th>\n",
       "      <td>...</td>\n",
       "      <td>...</td>\n",
       "      <td>...</td>\n",
       "      <td>...</td>\n",
       "      <td>...</td>\n",
       "      <td>...</td>\n",
       "      <td>...</td>\n",
       "      <td>...</td>\n",
       "    </tr>\n",
       "    <tr>\n",
       "      <th>99995</th>\n",
       "      <td>880</td>\n",
       "      <td>476</td>\n",
       "      <td>3</td>\n",
       "      <td>880175444</td>\n",
       "      <td>880176444</td>\n",
       "      <td>880295444</td>\n",
       "      <td>0.50</td>\n",
       "      <td>-0.470705</td>\n",
       "    </tr>\n",
       "    <tr>\n",
       "      <th>99996</th>\n",
       "      <td>716</td>\n",
       "      <td>204</td>\n",
       "      <td>5</td>\n",
       "      <td>879795543</td>\n",
       "      <td>879796543</td>\n",
       "      <td>879915543</td>\n",
       "      <td>1.00</td>\n",
       "      <td>1.306009</td>\n",
       "    </tr>\n",
       "    <tr>\n",
       "      <th>99997</th>\n",
       "      <td>276</td>\n",
       "      <td>1090</td>\n",
       "      <td>1</td>\n",
       "      <td>874795795</td>\n",
       "      <td>874796795</td>\n",
       "      <td>874915795</td>\n",
       "      <td>0.00</td>\n",
       "      <td>-2.247419</td>\n",
       "    </tr>\n",
       "    <tr>\n",
       "      <th>99998</th>\n",
       "      <td>13</td>\n",
       "      <td>225</td>\n",
       "      <td>2</td>\n",
       "      <td>882399156</td>\n",
       "      <td>882400156</td>\n",
       "      <td>882519156</td>\n",
       "      <td>0.25</td>\n",
       "      <td>-1.359062</td>\n",
       "    </tr>\n",
       "    <tr>\n",
       "      <th>99999</th>\n",
       "      <td>12</td>\n",
       "      <td>203</td>\n",
       "      <td>3</td>\n",
       "      <td>879959583</td>\n",
       "      <td>879960583</td>\n",
       "      <td>880079583</td>\n",
       "      <td>0.50</td>\n",
       "      <td>-0.470705</td>\n",
       "    </tr>\n",
       "  </tbody>\n",
       "</table>\n",
       "<p>100000 rows × 8 columns</p>\n",
       "</div>"
      ],
      "text/plain": [
       "       user_id  item_id  rating  timestamp  timestamps_plus_one_sec  \\\n",
       "0          196      242       3  881250949                881251949   \n",
       "1          186      302       3  891717742                891718742   \n",
       "2           22      377       1  878887116                878888116   \n",
       "3          244       51       2  880606923                880607923   \n",
       "4          166      346       1  886397596                886398596   \n",
       "...        ...      ...     ...        ...                      ...   \n",
       "99995      880      476       3  880175444                880176444   \n",
       "99996      716      204       5  879795543                879796543   \n",
       "99997      276     1090       1  874795795                874796795   \n",
       "99998       13      225       2  882399156                882400156   \n",
       "99999       12      203       3  879959583                879960583   \n",
       "\n",
       "       timestamps_minus_two_mins  norm_rating  standard_ratings  \n",
       "0                      881370949         0.50         -0.470705  \n",
       "1                      891837742         0.50         -0.470705  \n",
       "2                      879007116         0.00         -2.247419  \n",
       "3                      880726923         0.25         -1.359062  \n",
       "4                      886517596         0.00         -2.247419  \n",
       "...                          ...          ...               ...  \n",
       "99995                  880295444         0.50         -0.470705  \n",
       "99996                  879915543         1.00          1.306009  \n",
       "99997                  874915795         0.00         -2.247419  \n",
       "99998                  882519156         0.25         -1.359062  \n",
       "99999                  880079583         0.50         -0.470705  \n",
       "\n",
       "[100000 rows x 8 columns]"
      ]
     },
     "execution_count": 53,
     "metadata": {},
     "output_type": "execute_result"
    }
   ],
   "source": [
    "# Normalizing ratings\n",
    "min_ratings = data_df.rating.min()\n",
    "max_ratings = data_df.rating.max()\n",
    "data_df[\"norm_rating\"] = (ratings - min_ratings) / (max_ratings - min_ratings)\n",
    "\n",
    "# Standardizing ratings\n",
    "mean_ratings = data_df.rating.mean()\n",
    "std_ratings = data_df.rating.std()\n",
    "data_df[\"standard_ratings\"] = (ratings - mean_ratings) / std_ratings\n",
    "\n",
    "data_df"
   ]
  },
  {
   "cell_type": "markdown",
   "metadata": {},
   "source": [
    "Changes can also be applied to a column that already exists"
   ]
  },
  {
   "cell_type": "code",
   "execution_count": 54,
   "metadata": {},
   "outputs": [
    {
     "data": {
      "text/html": [
       "<div>\n",
       "<style scoped>\n",
       "    .dataframe tbody tr th:only-of-type {\n",
       "        vertical-align: middle;\n",
       "    }\n",
       "\n",
       "    .dataframe tbody tr th {\n",
       "        vertical-align: top;\n",
       "    }\n",
       "\n",
       "    .dataframe thead th {\n",
       "        text-align: right;\n",
       "    }\n",
       "</style>\n",
       "<table border=\"1\" class=\"dataframe\">\n",
       "  <thead>\n",
       "    <tr style=\"text-align: right;\">\n",
       "      <th></th>\n",
       "      <th>user_id</th>\n",
       "      <th>item_id</th>\n",
       "      <th>rating</th>\n",
       "      <th>timestamp</th>\n",
       "      <th>timestamps_plus_one_sec</th>\n",
       "      <th>timestamps_minus_two_mins</th>\n",
       "      <th>norm_rating</th>\n",
       "      <th>standard_ratings</th>\n",
       "    </tr>\n",
       "  </thead>\n",
       "  <tbody>\n",
       "    <tr>\n",
       "      <th>0</th>\n",
       "      <td>196</td>\n",
       "      <td>242</td>\n",
       "      <td>3</td>\n",
       "      <td>881250949</td>\n",
       "      <td>881251949</td>\n",
       "      <td>5</td>\n",
       "      <td>0.50</td>\n",
       "      <td>-0.470705</td>\n",
       "    </tr>\n",
       "    <tr>\n",
       "      <th>1</th>\n",
       "      <td>186</td>\n",
       "      <td>302</td>\n",
       "      <td>3</td>\n",
       "      <td>891717742</td>\n",
       "      <td>891718742</td>\n",
       "      <td>5</td>\n",
       "      <td>0.50</td>\n",
       "      <td>-0.470705</td>\n",
       "    </tr>\n",
       "    <tr>\n",
       "      <th>2</th>\n",
       "      <td>22</td>\n",
       "      <td>377</td>\n",
       "      <td>1</td>\n",
       "      <td>878887116</td>\n",
       "      <td>878888116</td>\n",
       "      <td>5</td>\n",
       "      <td>0.00</td>\n",
       "      <td>-2.247419</td>\n",
       "    </tr>\n",
       "    <tr>\n",
       "      <th>3</th>\n",
       "      <td>244</td>\n",
       "      <td>51</td>\n",
       "      <td>2</td>\n",
       "      <td>880606923</td>\n",
       "      <td>880607923</td>\n",
       "      <td>5</td>\n",
       "      <td>0.25</td>\n",
       "      <td>-1.359062</td>\n",
       "    </tr>\n",
       "    <tr>\n",
       "      <th>4</th>\n",
       "      <td>166</td>\n",
       "      <td>346</td>\n",
       "      <td>1</td>\n",
       "      <td>886397596</td>\n",
       "      <td>886398596</td>\n",
       "      <td>5</td>\n",
       "      <td>0.00</td>\n",
       "      <td>-2.247419</td>\n",
       "    </tr>\n",
       "    <tr>\n",
       "      <th>...</th>\n",
       "      <td>...</td>\n",
       "      <td>...</td>\n",
       "      <td>...</td>\n",
       "      <td>...</td>\n",
       "      <td>...</td>\n",
       "      <td>...</td>\n",
       "      <td>...</td>\n",
       "      <td>...</td>\n",
       "    </tr>\n",
       "    <tr>\n",
       "      <th>99995</th>\n",
       "      <td>880</td>\n",
       "      <td>476</td>\n",
       "      <td>3</td>\n",
       "      <td>880175444</td>\n",
       "      <td>880176444</td>\n",
       "      <td>5</td>\n",
       "      <td>0.50</td>\n",
       "      <td>-0.470705</td>\n",
       "    </tr>\n",
       "    <tr>\n",
       "      <th>99996</th>\n",
       "      <td>716</td>\n",
       "      <td>204</td>\n",
       "      <td>5</td>\n",
       "      <td>879795543</td>\n",
       "      <td>879796543</td>\n",
       "      <td>5</td>\n",
       "      <td>1.00</td>\n",
       "      <td>1.306009</td>\n",
       "    </tr>\n",
       "    <tr>\n",
       "      <th>99997</th>\n",
       "      <td>276</td>\n",
       "      <td>1090</td>\n",
       "      <td>1</td>\n",
       "      <td>874795795</td>\n",
       "      <td>874796795</td>\n",
       "      <td>5</td>\n",
       "      <td>0.00</td>\n",
       "      <td>-2.247419</td>\n",
       "    </tr>\n",
       "    <tr>\n",
       "      <th>99998</th>\n",
       "      <td>13</td>\n",
       "      <td>225</td>\n",
       "      <td>2</td>\n",
       "      <td>882399156</td>\n",
       "      <td>882400156</td>\n",
       "      <td>5</td>\n",
       "      <td>0.25</td>\n",
       "      <td>-1.359062</td>\n",
       "    </tr>\n",
       "    <tr>\n",
       "      <th>99999</th>\n",
       "      <td>12</td>\n",
       "      <td>203</td>\n",
       "      <td>3</td>\n",
       "      <td>879959583</td>\n",
       "      <td>879960583</td>\n",
       "      <td>5</td>\n",
       "      <td>0.50</td>\n",
       "      <td>-0.470705</td>\n",
       "    </tr>\n",
       "  </tbody>\n",
       "</table>\n",
       "<p>100000 rows × 8 columns</p>\n",
       "</div>"
      ],
      "text/plain": [
       "       user_id  item_id  rating  timestamp  timestamps_plus_one_sec  \\\n",
       "0          196      242       3  881250949                881251949   \n",
       "1          186      302       3  891717742                891718742   \n",
       "2           22      377       1  878887116                878888116   \n",
       "3          244       51       2  880606923                880607923   \n",
       "4          166      346       1  886397596                886398596   \n",
       "...        ...      ...     ...        ...                      ...   \n",
       "99995      880      476       3  880175444                880176444   \n",
       "99996      716      204       5  879795543                879796543   \n",
       "99997      276     1090       1  874795795                874796795   \n",
       "99998       13      225       2  882399156                882400156   \n",
       "99999       12      203       3  879959583                879960583   \n",
       "\n",
       "       timestamps_minus_two_mins  norm_rating  standard_ratings  \n",
       "0                              5         0.50         -0.470705  \n",
       "1                              5         0.50         -0.470705  \n",
       "2                              5         0.00         -2.247419  \n",
       "3                              5         0.25         -1.359062  \n",
       "4                              5         0.00         -2.247419  \n",
       "...                          ...          ...               ...  \n",
       "99995                          5         0.50         -0.470705  \n",
       "99996                          5         1.00          1.306009  \n",
       "99997                          5         0.00         -2.247419  \n",
       "99998                          5         0.25         -1.359062  \n",
       "99999                          5         0.50         -0.470705  \n",
       "\n",
       "[100000 rows x 8 columns]"
      ]
     },
     "execution_count": 54,
     "metadata": {},
     "output_type": "execute_result"
    }
   ],
   "source": [
    "data_df[\"timestamps_minus_two_mins\"] = 5\n",
    "data_df"
   ]
  },
  {
   "cell_type": "markdown",
   "metadata": {},
   "source": [
    "As I made a mistake, we should delete that column"
   ]
  },
  {
   "cell_type": "code",
   "execution_count": 55,
   "metadata": {},
   "outputs": [
    {
     "data": {
      "text/html": [
       "<div>\n",
       "<style scoped>\n",
       "    .dataframe tbody tr th:only-of-type {\n",
       "        vertical-align: middle;\n",
       "    }\n",
       "\n",
       "    .dataframe tbody tr th {\n",
       "        vertical-align: top;\n",
       "    }\n",
       "\n",
       "    .dataframe thead th {\n",
       "        text-align: right;\n",
       "    }\n",
       "</style>\n",
       "<table border=\"1\" class=\"dataframe\">\n",
       "  <thead>\n",
       "    <tr style=\"text-align: right;\">\n",
       "      <th></th>\n",
       "      <th>user_id</th>\n",
       "      <th>item_id</th>\n",
       "      <th>rating</th>\n",
       "      <th>timestamp</th>\n",
       "      <th>timestamps_plus_one_sec</th>\n",
       "      <th>norm_rating</th>\n",
       "      <th>standard_ratings</th>\n",
       "    </tr>\n",
       "  </thead>\n",
       "  <tbody>\n",
       "    <tr>\n",
       "      <th>0</th>\n",
       "      <td>196</td>\n",
       "      <td>242</td>\n",
       "      <td>3</td>\n",
       "      <td>881250949</td>\n",
       "      <td>881251949</td>\n",
       "      <td>0.50</td>\n",
       "      <td>-0.470705</td>\n",
       "    </tr>\n",
       "    <tr>\n",
       "      <th>1</th>\n",
       "      <td>186</td>\n",
       "      <td>302</td>\n",
       "      <td>3</td>\n",
       "      <td>891717742</td>\n",
       "      <td>891718742</td>\n",
       "      <td>0.50</td>\n",
       "      <td>-0.470705</td>\n",
       "    </tr>\n",
       "    <tr>\n",
       "      <th>2</th>\n",
       "      <td>22</td>\n",
       "      <td>377</td>\n",
       "      <td>1</td>\n",
       "      <td>878887116</td>\n",
       "      <td>878888116</td>\n",
       "      <td>0.00</td>\n",
       "      <td>-2.247419</td>\n",
       "    </tr>\n",
       "    <tr>\n",
       "      <th>3</th>\n",
       "      <td>244</td>\n",
       "      <td>51</td>\n",
       "      <td>2</td>\n",
       "      <td>880606923</td>\n",
       "      <td>880607923</td>\n",
       "      <td>0.25</td>\n",
       "      <td>-1.359062</td>\n",
       "    </tr>\n",
       "    <tr>\n",
       "      <th>4</th>\n",
       "      <td>166</td>\n",
       "      <td>346</td>\n",
       "      <td>1</td>\n",
       "      <td>886397596</td>\n",
       "      <td>886398596</td>\n",
       "      <td>0.00</td>\n",
       "      <td>-2.247419</td>\n",
       "    </tr>\n",
       "    <tr>\n",
       "      <th>...</th>\n",
       "      <td>...</td>\n",
       "      <td>...</td>\n",
       "      <td>...</td>\n",
       "      <td>...</td>\n",
       "      <td>...</td>\n",
       "      <td>...</td>\n",
       "      <td>...</td>\n",
       "    </tr>\n",
       "    <tr>\n",
       "      <th>99995</th>\n",
       "      <td>880</td>\n",
       "      <td>476</td>\n",
       "      <td>3</td>\n",
       "      <td>880175444</td>\n",
       "      <td>880176444</td>\n",
       "      <td>0.50</td>\n",
       "      <td>-0.470705</td>\n",
       "    </tr>\n",
       "    <tr>\n",
       "      <th>99996</th>\n",
       "      <td>716</td>\n",
       "      <td>204</td>\n",
       "      <td>5</td>\n",
       "      <td>879795543</td>\n",
       "      <td>879796543</td>\n",
       "      <td>1.00</td>\n",
       "      <td>1.306009</td>\n",
       "    </tr>\n",
       "    <tr>\n",
       "      <th>99997</th>\n",
       "      <td>276</td>\n",
       "      <td>1090</td>\n",
       "      <td>1</td>\n",
       "      <td>874795795</td>\n",
       "      <td>874796795</td>\n",
       "      <td>0.00</td>\n",
       "      <td>-2.247419</td>\n",
       "    </tr>\n",
       "    <tr>\n",
       "      <th>99998</th>\n",
       "      <td>13</td>\n",
       "      <td>225</td>\n",
       "      <td>2</td>\n",
       "      <td>882399156</td>\n",
       "      <td>882400156</td>\n",
       "      <td>0.25</td>\n",
       "      <td>-1.359062</td>\n",
       "    </tr>\n",
       "    <tr>\n",
       "      <th>99999</th>\n",
       "      <td>12</td>\n",
       "      <td>203</td>\n",
       "      <td>3</td>\n",
       "      <td>879959583</td>\n",
       "      <td>879960583</td>\n",
       "      <td>0.50</td>\n",
       "      <td>-0.470705</td>\n",
       "    </tr>\n",
       "  </tbody>\n",
       "</table>\n",
       "<p>100000 rows × 7 columns</p>\n",
       "</div>"
      ],
      "text/plain": [
       "       user_id  item_id  rating  timestamp  timestamps_plus_one_sec  \\\n",
       "0          196      242       3  881250949                881251949   \n",
       "1          186      302       3  891717742                891718742   \n",
       "2           22      377       1  878887116                878888116   \n",
       "3          244       51       2  880606923                880607923   \n",
       "4          166      346       1  886397596                886398596   \n",
       "...        ...      ...     ...        ...                      ...   \n",
       "99995      880      476       3  880175444                880176444   \n",
       "99996      716      204       5  879795543                879796543   \n",
       "99997      276     1090       1  874795795                874796795   \n",
       "99998       13      225       2  882399156                882400156   \n",
       "99999       12      203       3  879959583                879960583   \n",
       "\n",
       "       norm_rating  standard_ratings  \n",
       "0             0.50         -0.470705  \n",
       "1             0.50         -0.470705  \n",
       "2             0.00         -2.247419  \n",
       "3             0.25         -1.359062  \n",
       "4             0.00         -2.247419  \n",
       "...            ...               ...  \n",
       "99995         0.50         -0.470705  \n",
       "99996         1.00          1.306009  \n",
       "99997         0.00         -2.247419  \n",
       "99998         0.25         -1.359062  \n",
       "99999         0.50         -0.470705  \n",
       "\n",
       "[100000 rows x 7 columns]"
      ]
     },
     "execution_count": 55,
     "metadata": {},
     "output_type": "execute_result"
    }
   ],
   "source": [
    "del data_df[\"timestamps_minus_two_mins\"]\n",
    "data_df"
   ]
  },
  {
   "cell_type": "markdown",
   "metadata": {},
   "source": [
    "### Boolean Indexing\n",
    "\n",
    "As you can imagine, this also can be done on Pandas. At least to me, they look more like SQL than before, which I really enjoy\n",
    "\n",
    "```sql\n",
    "SELECT *\n",
    "FROM data AS d\n",
    "WHERE d.rating >= 4\n",
    "```\n",
    "\n",
    "**IMPORTANT: As before, the boolean array must have the same `shape` than the dataframe or series in terms of rows.**"
   ]
  },
  {
   "cell_type": "markdown",
   "metadata": {},
   "source": [
    "First we need to create the boolean array (the `WHERE` in SQL)"
   ]
  },
  {
   "cell_type": "code",
   "execution_count": 56,
   "metadata": {},
   "outputs": [
    {
     "data": {
      "text/plain": [
       "0        False\n",
       "1        False\n",
       "2        False\n",
       "3        False\n",
       "4        False\n",
       "         ...  \n",
       "99995    False\n",
       "99996     True\n",
       "99997    False\n",
       "99998    False\n",
       "99999    False\n",
       "Name: rating, Length: 100000, dtype: bool"
      ]
     },
     "execution_count": 56,
     "metadata": {},
     "output_type": "execute_result"
    }
   ],
   "source": [
    "where_clause = data_df.rating >= 4\n",
    "where_clause"
   ]
  },
  {
   "cell_type": "code",
   "execution_count": 57,
   "metadata": {},
   "outputs": [
    {
     "data": {
      "text/plain": [
       "(100000,)"
      ]
     },
     "execution_count": 57,
     "metadata": {},
     "output_type": "execute_result"
    }
   ],
   "source": [
    "where_clause.shape"
   ]
  },
  {
   "cell_type": "markdown",
   "metadata": {},
   "source": [
    "Now that we have our boolean array, we just execute the `FROM` clause"
   ]
  },
  {
   "cell_type": "code",
   "execution_count": 58,
   "metadata": {},
   "outputs": [
    {
     "data": {
      "text/html": [
       "<div>\n",
       "<style scoped>\n",
       "    .dataframe tbody tr th:only-of-type {\n",
       "        vertical-align: middle;\n",
       "    }\n",
       "\n",
       "    .dataframe tbody tr th {\n",
       "        vertical-align: top;\n",
       "    }\n",
       "\n",
       "    .dataframe thead th {\n",
       "        text-align: right;\n",
       "    }\n",
       "</style>\n",
       "<table border=\"1\" class=\"dataframe\">\n",
       "  <thead>\n",
       "    <tr style=\"text-align: right;\">\n",
       "      <th></th>\n",
       "      <th>user_id</th>\n",
       "      <th>item_id</th>\n",
       "      <th>rating</th>\n",
       "      <th>timestamp</th>\n",
       "      <th>timestamps_plus_one_sec</th>\n",
       "      <th>norm_rating</th>\n",
       "      <th>standard_ratings</th>\n",
       "    </tr>\n",
       "  </thead>\n",
       "  <tbody>\n",
       "    <tr>\n",
       "      <th>5</th>\n",
       "      <td>298</td>\n",
       "      <td>474</td>\n",
       "      <td>4</td>\n",
       "      <td>884182806</td>\n",
       "      <td>884183806</td>\n",
       "      <td>0.75</td>\n",
       "      <td>0.417652</td>\n",
       "    </tr>\n",
       "    <tr>\n",
       "      <th>7</th>\n",
       "      <td>253</td>\n",
       "      <td>465</td>\n",
       "      <td>5</td>\n",
       "      <td>891628467</td>\n",
       "      <td>891629467</td>\n",
       "      <td>1.00</td>\n",
       "      <td>1.306009</td>\n",
       "    </tr>\n",
       "    <tr>\n",
       "      <th>11</th>\n",
       "      <td>286</td>\n",
       "      <td>1014</td>\n",
       "      <td>5</td>\n",
       "      <td>879781125</td>\n",
       "      <td>879782125</td>\n",
       "      <td>1.00</td>\n",
       "      <td>1.306009</td>\n",
       "    </tr>\n",
       "    <tr>\n",
       "      <th>12</th>\n",
       "      <td>200</td>\n",
       "      <td>222</td>\n",
       "      <td>5</td>\n",
       "      <td>876042340</td>\n",
       "      <td>876043340</td>\n",
       "      <td>1.00</td>\n",
       "      <td>1.306009</td>\n",
       "    </tr>\n",
       "    <tr>\n",
       "      <th>16</th>\n",
       "      <td>122</td>\n",
       "      <td>387</td>\n",
       "      <td>5</td>\n",
       "      <td>879270459</td>\n",
       "      <td>879271459</td>\n",
       "      <td>1.00</td>\n",
       "      <td>1.306009</td>\n",
       "    </tr>\n",
       "    <tr>\n",
       "      <th>...</th>\n",
       "      <td>...</td>\n",
       "      <td>...</td>\n",
       "      <td>...</td>\n",
       "      <td>...</td>\n",
       "      <td>...</td>\n",
       "      <td>...</td>\n",
       "      <td>...</td>\n",
       "    </tr>\n",
       "    <tr>\n",
       "      <th>99988</th>\n",
       "      <td>421</td>\n",
       "      <td>498</td>\n",
       "      <td>4</td>\n",
       "      <td>892241344</td>\n",
       "      <td>892242344</td>\n",
       "      <td>0.75</td>\n",
       "      <td>0.417652</td>\n",
       "    </tr>\n",
       "    <tr>\n",
       "      <th>99989</th>\n",
       "      <td>495</td>\n",
       "      <td>1091</td>\n",
       "      <td>4</td>\n",
       "      <td>888637503</td>\n",
       "      <td>888638503</td>\n",
       "      <td>0.75</td>\n",
       "      <td>0.417652</td>\n",
       "    </tr>\n",
       "    <tr>\n",
       "      <th>99990</th>\n",
       "      <td>806</td>\n",
       "      <td>421</td>\n",
       "      <td>4</td>\n",
       "      <td>882388897</td>\n",
       "      <td>882389897</td>\n",
       "      <td>0.75</td>\n",
       "      <td>0.417652</td>\n",
       "    </tr>\n",
       "    <tr>\n",
       "      <th>99991</th>\n",
       "      <td>676</td>\n",
       "      <td>538</td>\n",
       "      <td>4</td>\n",
       "      <td>892685437</td>\n",
       "      <td>892686437</td>\n",
       "      <td>0.75</td>\n",
       "      <td>0.417652</td>\n",
       "    </tr>\n",
       "    <tr>\n",
       "      <th>99996</th>\n",
       "      <td>716</td>\n",
       "      <td>204</td>\n",
       "      <td>5</td>\n",
       "      <td>879795543</td>\n",
       "      <td>879796543</td>\n",
       "      <td>1.00</td>\n",
       "      <td>1.306009</td>\n",
       "    </tr>\n",
       "  </tbody>\n",
       "</table>\n",
       "<p>55375 rows × 7 columns</p>\n",
       "</div>"
      ],
      "text/plain": [
       "       user_id  item_id  rating  timestamp  timestamps_plus_one_sec  \\\n",
       "5          298      474       4  884182806                884183806   \n",
       "7          253      465       5  891628467                891629467   \n",
       "11         286     1014       5  879781125                879782125   \n",
       "12         200      222       5  876042340                876043340   \n",
       "16         122      387       5  879270459                879271459   \n",
       "...        ...      ...     ...        ...                      ...   \n",
       "99988      421      498       4  892241344                892242344   \n",
       "99989      495     1091       4  888637503                888638503   \n",
       "99990      806      421       4  882388897                882389897   \n",
       "99991      676      538       4  892685437                892686437   \n",
       "99996      716      204       5  879795543                879796543   \n",
       "\n",
       "       norm_rating  standard_ratings  \n",
       "5             0.75          0.417652  \n",
       "7             1.00          1.306009  \n",
       "11            1.00          1.306009  \n",
       "12            1.00          1.306009  \n",
       "16            1.00          1.306009  \n",
       "...            ...               ...  \n",
       "99988         0.75          0.417652  \n",
       "99989         0.75          0.417652  \n",
       "99990         0.75          0.417652  \n",
       "99991         0.75          0.417652  \n",
       "99996         1.00          1.306009  \n",
       "\n",
       "[55375 rows x 7 columns]"
      ]
     },
     "execution_count": 58,
     "metadata": {},
     "output_type": "execute_result"
    }
   ],
   "source": [
    "data_df[where_clause]"
   ]
  },
  {
   "cell_type": "markdown",
   "metadata": {},
   "source": [
    "What happened here?\n",
    "\n",
    "Our boolean array went row by row of the `data_df.rating` series asking if the cell had a value `greater or equal` than `4`. If the condition held, then that cell in `where_clause` was set to `True`. Else, the cell was set to `False`.\n",
    "\n",
    "Here we saw two important features of ~~NumPy~~ Pandas (and subsequent libraries). The power of filtering and selecting data based on boolean conditions, and that writing these boolean conditions is really easy.\n",
    "\n",
    "What happens if I want those users with ids greater than 1000 and ratings higher than 4 OR item ids lower than 500 and ratings of 5?\n",
    "\n",
    "An SQL query would look like this:\n",
    "\n",
    "```SQL\n",
    "SELECT *\n",
    "FROM data AS d\n",
    "WHERE (d.rating >= 4 AND d.user_id >= 1000) OR (d.item_id > 5000 AND d.rating = 5)\n",
    "```"
   ]
  },
  {
   "cell_type": "code",
   "execution_count": 46,
   "metadata": {},
   "outputs": [
    {
     "data": {
      "text/plain": [
       "0        False\n",
       "1        False\n",
       "2        False\n",
       "3        False\n",
       "4        False\n",
       "         ...  \n",
       "99995    False\n",
       "99996     True\n",
       "99997    False\n",
       "99998    False\n",
       "99999    False\n",
       "Length: 100000, dtype: bool"
      ]
     },
     "execution_count": 46,
     "metadata": {},
     "output_type": "execute_result"
    }
   ],
   "source": [
    "where_clause = (((data_df.rating >= 4) & (data_df.user_id >= 1000)) \n",
    "                | ((data_df.item_id < 500) & (data_df.rating == 5)))\n",
    "where_clause"
   ]
  },
  {
   "cell_type": "code",
   "execution_count": 47,
   "metadata": {},
   "outputs": [
    {
     "data": {
      "text/plain": [
       "(100000,)"
      ]
     },
     "execution_count": 47,
     "metadata": {},
     "output_type": "execute_result"
    }
   ],
   "source": [
    "where_clause.shape"
   ]
  },
  {
   "cell_type": "code",
   "execution_count": 45,
   "metadata": {},
   "outputs": [
    {
     "data": {
      "text/html": [
       "<div>\n",
       "<style scoped>\n",
       "    .dataframe tbody tr th:only-of-type {\n",
       "        vertical-align: middle;\n",
       "    }\n",
       "\n",
       "    .dataframe tbody tr th {\n",
       "        vertical-align: top;\n",
       "    }\n",
       "\n",
       "    .dataframe thead th {\n",
       "        text-align: right;\n",
       "    }\n",
       "</style>\n",
       "<table border=\"1\" class=\"dataframe\">\n",
       "  <thead>\n",
       "    <tr style=\"text-align: right;\">\n",
       "      <th></th>\n",
       "      <th>user_id</th>\n",
       "      <th>item_id</th>\n",
       "      <th>rating</th>\n",
       "      <th>timestamp</th>\n",
       "      <th>timestamps_plus_one_sec</th>\n",
       "      <th>norm_rating</th>\n",
       "      <th>standard_ratings</th>\n",
       "    </tr>\n",
       "  </thead>\n",
       "  <tbody>\n",
       "    <tr>\n",
       "      <th>7</th>\n",
       "      <td>253</td>\n",
       "      <td>465</td>\n",
       "      <td>5</td>\n",
       "      <td>891628467</td>\n",
       "      <td>891629467</td>\n",
       "      <td>1.0</td>\n",
       "      <td>1.306009</td>\n",
       "    </tr>\n",
       "    <tr>\n",
       "      <th>12</th>\n",
       "      <td>200</td>\n",
       "      <td>222</td>\n",
       "      <td>5</td>\n",
       "      <td>876042340</td>\n",
       "      <td>876043340</td>\n",
       "      <td>1.0</td>\n",
       "      <td>1.306009</td>\n",
       "    </tr>\n",
       "    <tr>\n",
       "      <th>16</th>\n",
       "      <td>122</td>\n",
       "      <td>387</td>\n",
       "      <td>5</td>\n",
       "      <td>879270459</td>\n",
       "      <td>879271459</td>\n",
       "      <td>1.0</td>\n",
       "      <td>1.306009</td>\n",
       "    </tr>\n",
       "    <tr>\n",
       "      <th>26</th>\n",
       "      <td>38</td>\n",
       "      <td>95</td>\n",
       "      <td>5</td>\n",
       "      <td>892430094</td>\n",
       "      <td>892431094</td>\n",
       "      <td>1.0</td>\n",
       "      <td>1.306009</td>\n",
       "    </tr>\n",
       "    <tr>\n",
       "      <th>29</th>\n",
       "      <td>160</td>\n",
       "      <td>234</td>\n",
       "      <td>5</td>\n",
       "      <td>876861185</td>\n",
       "      <td>876862185</td>\n",
       "      <td>1.0</td>\n",
       "      <td>1.306009</td>\n",
       "    </tr>\n",
       "    <tr>\n",
       "      <th>...</th>\n",
       "      <td>...</td>\n",
       "      <td>...</td>\n",
       "      <td>...</td>\n",
       "      <td>...</td>\n",
       "      <td>...</td>\n",
       "      <td>...</td>\n",
       "      <td>...</td>\n",
       "    </tr>\n",
       "    <tr>\n",
       "      <th>99957</th>\n",
       "      <td>833</td>\n",
       "      <td>474</td>\n",
       "      <td>5</td>\n",
       "      <td>875122675</td>\n",
       "      <td>875123675</td>\n",
       "      <td>1.0</td>\n",
       "      <td>1.306009</td>\n",
       "    </tr>\n",
       "    <tr>\n",
       "      <th>99961</th>\n",
       "      <td>766</td>\n",
       "      <td>91</td>\n",
       "      <td>5</td>\n",
       "      <td>891310125</td>\n",
       "      <td>891311125</td>\n",
       "      <td>1.0</td>\n",
       "      <td>1.306009</td>\n",
       "    </tr>\n",
       "    <tr>\n",
       "      <th>99962</th>\n",
       "      <td>650</td>\n",
       "      <td>479</td>\n",
       "      <td>5</td>\n",
       "      <td>891372339</td>\n",
       "      <td>891373339</td>\n",
       "      <td>1.0</td>\n",
       "      <td>1.306009</td>\n",
       "    </tr>\n",
       "    <tr>\n",
       "      <th>99963</th>\n",
       "      <td>429</td>\n",
       "      <td>199</td>\n",
       "      <td>5</td>\n",
       "      <td>882386006</td>\n",
       "      <td>882387006</td>\n",
       "      <td>1.0</td>\n",
       "      <td>1.306009</td>\n",
       "    </tr>\n",
       "    <tr>\n",
       "      <th>99996</th>\n",
       "      <td>716</td>\n",
       "      <td>204</td>\n",
       "      <td>5</td>\n",
       "      <td>879795543</td>\n",
       "      <td>879796543</td>\n",
       "      <td>1.0</td>\n",
       "      <td>1.306009</td>\n",
       "    </tr>\n",
       "  </tbody>\n",
       "</table>\n",
       "<p>15903 rows × 7 columns</p>\n",
       "</div>"
      ],
      "text/plain": [
       "       user_id  item_id  rating  timestamp  timestamps_plus_one_sec  \\\n",
       "7          253      465       5  891628467                891629467   \n",
       "12         200      222       5  876042340                876043340   \n",
       "16         122      387       5  879270459                879271459   \n",
       "26          38       95       5  892430094                892431094   \n",
       "29         160      234       5  876861185                876862185   \n",
       "...        ...      ...     ...        ...                      ...   \n",
       "99957      833      474       5  875122675                875123675   \n",
       "99961      766       91       5  891310125                891311125   \n",
       "99962      650      479       5  891372339                891373339   \n",
       "99963      429      199       5  882386006                882387006   \n",
       "99996      716      204       5  879795543                879796543   \n",
       "\n",
       "       norm_rating  standard_ratings  \n",
       "7              1.0          1.306009  \n",
       "12             1.0          1.306009  \n",
       "16             1.0          1.306009  \n",
       "26             1.0          1.306009  \n",
       "29             1.0          1.306009  \n",
       "...            ...               ...  \n",
       "99957          1.0          1.306009  \n",
       "99961          1.0          1.306009  \n",
       "99962          1.0          1.306009  \n",
       "99963          1.0          1.306009  \n",
       "99996          1.0          1.306009  \n",
       "\n",
       "[15903 rows x 7 columns]"
      ]
     },
     "execution_count": 45,
     "metadata": {},
     "output_type": "execute_result"
    }
   ],
   "source": [
    "data_df[where_clause]"
   ]
  },
  {
   "cell_type": "markdown",
   "metadata": {},
   "source": [
    "Now that we have our boolean array, we just execute the `FROM` clause"
   ]
  },
  {
   "cell_type": "markdown",
   "metadata": {},
   "source": [
    "We can also inline the condition. Depending on the length of the condition, it could be better to inline it or not"
   ]
  },
  {
   "cell_type": "code",
   "execution_count": 46,
   "metadata": {},
   "outputs": [
    {
     "data": {
      "text/html": [
       "<div>\n",
       "<style scoped>\n",
       "    .dataframe tbody tr th:only-of-type {\n",
       "        vertical-align: middle;\n",
       "    }\n",
       "\n",
       "    .dataframe tbody tr th {\n",
       "        vertical-align: top;\n",
       "    }\n",
       "\n",
       "    .dataframe thead th {\n",
       "        text-align: right;\n",
       "    }\n",
       "</style>\n",
       "<table border=\"1\" class=\"dataframe\">\n",
       "  <thead>\n",
       "    <tr style=\"text-align: right;\">\n",
       "      <th></th>\n",
       "      <th>user_id</th>\n",
       "      <th>item_id</th>\n",
       "      <th>rating</th>\n",
       "      <th>timestamp</th>\n",
       "      <th>timestamps_plus_one_sec</th>\n",
       "      <th>norm_rating</th>\n",
       "      <th>standard_ratings</th>\n",
       "    </tr>\n",
       "  </thead>\n",
       "  <tbody>\n",
       "    <tr>\n",
       "      <th>7</th>\n",
       "      <td>253</td>\n",
       "      <td>465</td>\n",
       "      <td>5</td>\n",
       "      <td>891628467</td>\n",
       "      <td>891629467</td>\n",
       "      <td>1.0</td>\n",
       "      <td>1.306009</td>\n",
       "    </tr>\n",
       "    <tr>\n",
       "      <th>12</th>\n",
       "      <td>200</td>\n",
       "      <td>222</td>\n",
       "      <td>5</td>\n",
       "      <td>876042340</td>\n",
       "      <td>876043340</td>\n",
       "      <td>1.0</td>\n",
       "      <td>1.306009</td>\n",
       "    </tr>\n",
       "    <tr>\n",
       "      <th>16</th>\n",
       "      <td>122</td>\n",
       "      <td>387</td>\n",
       "      <td>5</td>\n",
       "      <td>879270459</td>\n",
       "      <td>879271459</td>\n",
       "      <td>1.0</td>\n",
       "      <td>1.306009</td>\n",
       "    </tr>\n",
       "    <tr>\n",
       "      <th>26</th>\n",
       "      <td>38</td>\n",
       "      <td>95</td>\n",
       "      <td>5</td>\n",
       "      <td>892430094</td>\n",
       "      <td>892431094</td>\n",
       "      <td>1.0</td>\n",
       "      <td>1.306009</td>\n",
       "    </tr>\n",
       "    <tr>\n",
       "      <th>29</th>\n",
       "      <td>160</td>\n",
       "      <td>234</td>\n",
       "      <td>5</td>\n",
       "      <td>876861185</td>\n",
       "      <td>876862185</td>\n",
       "      <td>1.0</td>\n",
       "      <td>1.306009</td>\n",
       "    </tr>\n",
       "    <tr>\n",
       "      <th>...</th>\n",
       "      <td>...</td>\n",
       "      <td>...</td>\n",
       "      <td>...</td>\n",
       "      <td>...</td>\n",
       "      <td>...</td>\n",
       "      <td>...</td>\n",
       "      <td>...</td>\n",
       "    </tr>\n",
       "    <tr>\n",
       "      <th>99957</th>\n",
       "      <td>833</td>\n",
       "      <td>474</td>\n",
       "      <td>5</td>\n",
       "      <td>875122675</td>\n",
       "      <td>875123675</td>\n",
       "      <td>1.0</td>\n",
       "      <td>1.306009</td>\n",
       "    </tr>\n",
       "    <tr>\n",
       "      <th>99961</th>\n",
       "      <td>766</td>\n",
       "      <td>91</td>\n",
       "      <td>5</td>\n",
       "      <td>891310125</td>\n",
       "      <td>891311125</td>\n",
       "      <td>1.0</td>\n",
       "      <td>1.306009</td>\n",
       "    </tr>\n",
       "    <tr>\n",
       "      <th>99962</th>\n",
       "      <td>650</td>\n",
       "      <td>479</td>\n",
       "      <td>5</td>\n",
       "      <td>891372339</td>\n",
       "      <td>891373339</td>\n",
       "      <td>1.0</td>\n",
       "      <td>1.306009</td>\n",
       "    </tr>\n",
       "    <tr>\n",
       "      <th>99963</th>\n",
       "      <td>429</td>\n",
       "      <td>199</td>\n",
       "      <td>5</td>\n",
       "      <td>882386006</td>\n",
       "      <td>882387006</td>\n",
       "      <td>1.0</td>\n",
       "      <td>1.306009</td>\n",
       "    </tr>\n",
       "    <tr>\n",
       "      <th>99996</th>\n",
       "      <td>716</td>\n",
       "      <td>204</td>\n",
       "      <td>5</td>\n",
       "      <td>879795543</td>\n",
       "      <td>879796543</td>\n",
       "      <td>1.0</td>\n",
       "      <td>1.306009</td>\n",
       "    </tr>\n",
       "  </tbody>\n",
       "</table>\n",
       "<p>15903 rows × 7 columns</p>\n",
       "</div>"
      ],
      "text/plain": [
       "       user_id  item_id  rating  timestamp  timestamps_plus_one_sec  \\\n",
       "7          253      465       5  891628467                891629467   \n",
       "12         200      222       5  876042340                876043340   \n",
       "16         122      387       5  879270459                879271459   \n",
       "26          38       95       5  892430094                892431094   \n",
       "29         160      234       5  876861185                876862185   \n",
       "...        ...      ...     ...        ...                      ...   \n",
       "99957      833      474       5  875122675                875123675   \n",
       "99961      766       91       5  891310125                891311125   \n",
       "99962      650      479       5  891372339                891373339   \n",
       "99963      429      199       5  882386006                882387006   \n",
       "99996      716      204       5  879795543                879796543   \n",
       "\n",
       "       norm_rating  standard_ratings  \n",
       "7              1.0          1.306009  \n",
       "12             1.0          1.306009  \n",
       "16             1.0          1.306009  \n",
       "26             1.0          1.306009  \n",
       "29             1.0          1.306009  \n",
       "...            ...               ...  \n",
       "99957          1.0          1.306009  \n",
       "99961          1.0          1.306009  \n",
       "99962          1.0          1.306009  \n",
       "99963          1.0          1.306009  \n",
       "99996          1.0          1.306009  \n",
       "\n",
       "[15903 rows x 7 columns]"
      ]
     },
     "execution_count": 46,
     "metadata": {},
     "output_type": "execute_result"
    }
   ],
   "source": [
    "data_df[((data_df.rating >= 4) & (data_df.user_id >= 1000)) | ((data_df.item_id < 500) & (data_df.rating == 5))]"
   ]
  },
  {
   "cell_type": "markdown",
   "metadata": {},
   "source": [
    "## Scipy\n",
    "\n",
    "Scipy is another **core** library for data science. It provides functions and methods for several domains and calculations using NumPy arrays as base.\n",
    "\n",
    "Previously, we only took each column in a separate array. However, this data can be organized in a matrix in the following way. \n",
    "\n",
    "First, let's call the matrix $URM$. This matrix will have $nu$ rows and $ni$ columns. $nu$ is the number of users, and $ni$ is the number of items. For a user id $u$ and an item id $i$, the matrix cell $URM_{u,i}$ is equal to the rating that $u$ gave to $i$ ($r_{u,i}$).\n",
    "\n",
    "Visually, the matrix looks as follows.\n",
    "\n",
    "![URM](images/urm.png)\n",
    "\n",
    "Not all users have rated all the items. Similarly, not all items have received a rating from every user. In fact, this matrix is **really sparse**. Which means that the number of empty spaces is **REALLY** high.\n",
    "\n",
    "Visually,\n",
    "\n",
    "![SPARSE](images/sparse.png)\n",
    "\n",
    "Every black dot represents a rating, you can see that matrix is almost empty.\n",
    "\n",
    "The good thing is that scipy contains a module for sparse matrices 🤩. We will also calculate important features of the matrix."
   ]
  },
  {
   "cell_type": "code",
   "execution_count": 59,
   "metadata": {},
   "outputs": [],
   "source": [
    "from scipy import sparse"
   ]
  },
  {
   "cell_type": "markdown",
   "metadata": {},
   "source": [
    "Before going into sparse matrices. We have a little problem. These are highly optimized data structures that are needed for **certain** operations. For instance, if we're going to do operations on the rows, then we use a **row** optimized sparse matrix."
   ]
  },
  {
   "cell_type": "code",
   "execution_count": 60,
   "metadata": {},
   "outputs": [],
   "source": [
    "# Row optimized sparse matrix\n",
    "urm_csr = sparse.csr_matrix((ratings, (user_ids, item_ids)))\n",
    "\n",
    "# Columns optimized\n",
    "urm_csc = sparse.csc_matrix((ratings, (user_ids, item_ids)))"
   ]
  },
  {
   "cell_type": "markdown",
   "metadata": {},
   "source": [
    "Operations on these type of matrices must be done with care, the time they take will increase **REALLY** a lot."
   ]
  },
  {
   "cell_type": "code",
   "execution_count": 61,
   "metadata": {},
   "outputs": [
    {
     "name": "stdout",
     "output_type": "stream",
     "text": [
      "379 µs ± 9.7 µs per loop (mean ± std. dev. of 7 runs, 1000 loops each)\n",
      "928 µs ± 22.9 µs per loop (mean ± std. dev. of 7 runs, 1000 loops each)\n",
      "232 µs ± 2.76 µs per loop (mean ± std. dev. of 7 runs, 1000 loops each)\n",
      "123 µs ± 3.47 µs per loop (mean ± std. dev. of 7 runs, 10000 loops each)\n",
      "554 µs ± 7.45 µs per loop (mean ± std. dev. of 7 runs, 1000 loops each)\n",
      "311 µs ± 5.68 µs per loop (mean ± std. dev. of 7 runs, 1000 loops each)\n",
      "4.55 ms ± 76.6 µs per loop (mean ± std. dev. of 7 runs, 100 loops each)\n"
     ]
    }
   ],
   "source": [
    "%timeit urm_csr + urm_csr\n",
    "%timeit urm_csr + urm_csc\n",
    "%timeit urm_csr[:, :150]\n",
    "%timeit urm_csr[:150, :]\n",
    "%timeit urm_csr.tocsc()\n",
    "%timeit urm_csr.tocoo()\n",
    "%timeit urm_csr.tolil()"
   ]
  },
  {
   "cell_type": "code",
   "execution_count": 62,
   "metadata": {},
   "outputs": [
    {
     "name": "stdout",
     "output_type": "stream",
     "text": [
      "405 µs ± 9.84 µs per loop (mean ± std. dev. of 7 runs, 1000 loops each)\n",
      "991 µs ± 32.8 µs per loop (mean ± std. dev. of 7 runs, 1000 loops each)\n",
      "140 µs ± 855 ns per loop (mean ± std. dev. of 7 runs, 10000 loops each)\n",
      "251 µs ± 7.15 µs per loop (mean ± std. dev. of 7 runs, 1000 loops each)\n",
      "516 µs ± 20.8 µs per loop (mean ± std. dev. of 7 runs, 1000 loops each)\n",
      "325 µs ± 10.3 µs per loop (mean ± std. dev. of 7 runs, 1000 loops each)\n",
      "5.3 ms ± 56 µs per loop (mean ± std. dev. of 7 runs, 100 loops each)\n"
     ]
    }
   ],
   "source": [
    "%timeit urm_csc + urm_csc\n",
    "%timeit urm_csc + urm_csr\n",
    "%timeit urm_csc[:, :150]\n",
    "%timeit urm_csc[:150, :]\n",
    "%timeit urm_csc.tocsr()\n",
    "%timeit urm_csc.tocoo()\n",
    "%timeit urm_csc.tolil()"
   ]
  },
  {
   "cell_type": "markdown",
   "metadata": {},
   "source": [
    "## Save the data for further use"
   ]
  },
  {
   "cell_type": "code",
   "execution_count": 63,
   "metadata": {},
   "outputs": [],
   "source": [
    "sparse.save_npz(\"data/urm_csr.npz\", matrix=urm_csr, compressed=True)\n",
    "sparse.save_npz(\"data/urm_csc.npz\", matrix=urm_csc, compressed=True)"
   ]
  },
  {
   "cell_type": "markdown",
   "metadata": {},
   "source": [
    "## Cheat Sheets for ya\n",
    "\n",
    "Some people like to have everything condensed into a single PDF that you can check whenever you've a doubt. So, here you have them 👌"
   ]
  },
  {
   "cell_type": "markdown",
   "metadata": {},
   "source": [
    "### NumPy\n",
    "\n",
    "**DISCLAIMER**: I'm not the author of this cheat sheet. All credits go to their respective authors.\n",
    "\n",
    "![Nice NumPy Cheat Sheet](images/numpy_cheat_sheet.pdf)"
   ]
  },
  {
   "cell_type": "markdown",
   "metadata": {},
   "source": [
    "### Pandas\n",
    "\n",
    "**DISCLAIMER**: I'm not the author of this cheat sheet. All credits go to their respective authors.\n",
    "\n",
    "![Nice Pandas Cheat Sheet](images/pandas_cheat_sheet.pdf)"
   ]
  },
  {
   "cell_type": "markdown",
   "metadata": {},
   "source": [
    "### SciPy\n",
    "\n",
    "**DISCLAIMER**: I'm not the author of this cheat sheet. All credits go to their respective authors.\n",
    "\n",
    "![Nice Pandas Cheat Sheet](images/scipy_cheat_sheet.pdf)"
   ]
  },
  {
   "cell_type": "markdown",
   "metadata": {},
   "source": [
    "## Some exercises for you"
   ]
  },
  {
   "cell_type": "markdown",
   "metadata": {},
   "source": [
    "### Numpy\n",
    "\n",
    "1. What is the difference between `np.loadtxt` and `np.genfromtxt`\n",
    "2. What does the `np.vectorize` function do?"
   ]
  },
  {
   "cell_type": "markdown",
   "metadata": {},
   "source": [
    "### Pandas\n",
    "\n",
    "1. What is the main benefit of using pandas readers for files, such as read_csv, read_excel, instead of np.loadtxt? What are some limitations that we find in Numpy?\n",
    "2. Can we create a new column using the attribute notation? i.e. can we do this? `data_df.new_col = <series>` If not, why?"
   ]
  },
  {
   "cell_type": "markdown",
   "metadata": {},
   "source": [
    "### Scipy\n",
    "\n",
    "1. What do you think could be the use of a LiL matrix? What are the differences between a Python Dictionary and a sparse matrix? Can they be equivalent?"
   ]
  }
 ],
 "metadata": {
  "kernelspec": {
   "display_name": "Python 3",
   "language": "python",
   "name": "python3"
  },
  "language_info": {
   "codemirror_mode": {
    "name": "ipython",
    "version": 3
   },
   "file_extension": ".py",
   "mimetype": "text/x-python",
   "name": "python",
   "nbconvert_exporter": "python",
   "pygments_lexer": "ipython3",
   "version": "3.8.5"
  }
 },
 "nbformat": 4,
 "nbformat_minor": 4
}
