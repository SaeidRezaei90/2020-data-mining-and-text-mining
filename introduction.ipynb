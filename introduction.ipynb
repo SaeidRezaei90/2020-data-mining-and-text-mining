{
 "cells": [
  {
   "cell_type": "markdown",
   "metadata": {},
   "source": [
    "# `Hello, World!`\n",
    "\n",
    "In today's lecture we are going to use the state-of-the-art tools for data and text mining in the Python ecosystem.\n",
    "The goal of the lecture is not to become proficient at it (one never becomes proficient at it 🤣) but to get an idea of the basics (and not so basics) features.\n",
    "\n",
    "Today we are going to go through three main topics.\n",
    "\n",
    "1. Conda and Python environments\n",
    "2. Plain Python vs Jupyter (Notebooks vs Lab) (Spoiler: check out what I am using)\n",
    "3. Data Preparation using Numpy, Pandas, and SciPy\n",
    "4. Creating Recommender Systems from scratch\n",
    "5. ~~Neural Networks, Deep Learning, BERT, RoBERTa...~~ (please, no. DL is not the solution to all of our problems 😒)\n",
    "\n",
    "Remember, it's not only important to listen to the lecture, but to practice. Take a topic you'd like, try out these\n",
    "libraries, the algorithms and techniques of the course, and become proficient at it (or begin working on your thesis project and you'll\n",
    "learn it by force 😅).\n"
   ]
  },
  {
   "cell_type": "markdown",
   "metadata": {},
   "source": [
    "## `whoami`\n",
    "I'm Fernando Pérez, a Ph.D. candidate at Polimi. I'm currently researching on Recommender Systems and that has worked \"a bit\" with Python,\n",
    "numpy, and Pandas. I also like programming memes and bad jokes 🤷‍♂️"
   ]
  },
  {
   "cell_type": "markdown",
   "metadata": {
    "pycharm": {
     "name": "#%% md\n"
    }
   },
   "source": [
    "## `Last reminders`\n",
    "\n",
    "1. The documentation of all the libraries are your friends. They just need care and attention.\n",
    "2. If you missed something (or want to check these amazing notebooks again) I've got you covered. All these notebooks are available on [GitHub](https://github.com).\n",
    "\n",
    "Last, but not least, if this happens to you.\n",
    "\n",
    "![super good meme](images/meme.jpg)\n",
    "\n",
    "Do not panic, it's normal. You'll just deal with it.\n",
    "\n",
    "\n",
    "\n",
    "\n",
    "\n",
    "\n",
    "\n",
    "\n",
    "\n"
   ]
  }
 ],
 "metadata": {
  "kernelspec": {
   "display_name": "Python 3",
   "language": "python",
   "name": "python3"
  },
  "language_info": {
   "codemirror_mode": {
    "name": "ipython",
    "version": 3
   },
   "file_extension": ".py",
   "mimetype": "text/x-python",
   "name": "python",
   "nbconvert_exporter": "python",
   "pygments_lexer": "ipython3",
   "version": "3.8.5"
  }
 },
 "nbformat": 4,
 "nbformat_minor": 4
}
