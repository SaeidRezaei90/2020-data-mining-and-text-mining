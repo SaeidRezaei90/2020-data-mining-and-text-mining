{
 "cells": [
  {
   "cell_type": "markdown",
   "metadata": {},
   "source": [
    "# The notebook dilemma"
   ]
  },
  {
   "cell_type": "markdown",
   "metadata": {},
   "source": [
    "Rule of thumb.\n",
    "\n",
    "If you want speed or you already tried the code: Plain Python\n",
    "* Less overhead\n",
    "* Runs a little bit faster\n",
    "\n",
    "On the other hand, You're learning a technology or you're lecturing: Jupyter Notebooks\n",
    "* Easy to use and useful to explain concepts\n"
   ]
  },
  {
   "cell_type": "markdown",
   "metadata": {},
   "source": [
    "## Jupyter Notebooks vs Lab\n",
    "\n",
    "I prefer labs. To me it's like working on PyCharm but on the web. Notebooks are like Nano. They're useful if you are doing only one notebook. But if you want to see the data, open an image, and have several notebooks opened, Lab is your choice"
   ]
  }
 ],
 "metadata": {
  "kernelspec": {
   "display_name": "Python 3",
   "language": "python",
   "name": "python3"
  },
  "language_info": {
   "codemirror_mode": {
    "name": "ipython",
    "version": 3
   },
   "file_extension": ".py",
   "mimetype": "text/x-python",
   "name": "python",
   "nbconvert_exporter": "python",
   "pygments_lexer": "ipython3",
   "version": "3.8.5"
  }
 },
 "nbformat": 4,
 "nbformat_minor": 4
}
